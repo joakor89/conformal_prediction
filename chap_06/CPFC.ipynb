{
 "cells": [
  {
   "cell_type": "markdown",
   "id": "c99ba610-d18f-45a9-82c9-f71360be5643",
   "metadata": {},
   "source": [
    "# Conformal Prediction for Classification\n",
    "\n",
    "### Loading Libraries"
   ]
  },
  {
   "cell_type": "code",
   "execution_count": 1,
   "id": "9cbb33f0-3a0b-42a1-98c8-a046e2ebbd15",
   "metadata": {},
   "outputs": [],
   "source": [
    "# Numerical Computing\n",
    "import numpy as np\n",
    "\n",
    "# Data Manipulation\n",
    "import pandas as pd\n",
    "\n",
    "#Dat Visualization\n",
    "import plotly.express as px\n",
    "import matplotlib.pyplot as plt\n",
    "\n",
    "# SciPy\n",
    "from scipy.stats import rankdata\n",
    "\n",
    "#\n",
    "import openml\n",
    "\n",
    "#Scikit-Learn\n",
    "from sklearn.svm import SVC, LinearSVC\n",
    "from sklearn.naive_bayes import GaussianNB\n",
    "from sklearn.tree import DecisionTreeClassifier\n",
    "from sklearn.preprocessing import label_binarize\n",
    "from  sklearn.neighbors import KNeighborsClassifier\n",
    "from sklearn.linear_model import LogisticRegression\n",
    "from sklearn.model_selection import train_test_split\n",
    "from sklearn.ensemble import RandomForestClassifier, AdaBoostClassifier\n",
    "from sklearn.metrics import log_loss, accuracy_score, roc_auc_score, confusion_matrix\n",
    "\n",
    "# Boosting Libraries\n",
    "from lightgbm import LGBMClassifier\n",
    "from xgboost import XGBClassifier\n",
    "from catboost import CatBoostClassifier\n",
    "\n",
    "# Conformal Libraries\n",
    "from nonconformist.cp import TcpClassifier\n",
    "from nonconformist.nc import NcFactory\n",
    "from nonconformist.nc import InverseProbabilityErrFunc, MarginErrFunc"
   ]
  },
  {
   "cell_type": "code",
   "execution_count": null,
   "id": "43450a3d-19b0-4ac2-b3a4-739938c8247b",
   "metadata": {},
   "outputs": [],
   "source": []
  }
 ],
 "metadata": {
  "kernelspec": {
   "display_name": "Python 3 (ipykernel)",
   "language": "python",
   "name": "python3"
  },
  "language_info": {
   "codemirror_mode": {
    "name": "ipython",
    "version": 3
   },
   "file_extension": ".py",
   "mimetype": "text/x-python",
   "name": "python",
   "nbconvert_exporter": "python",
   "pygments_lexer": "ipython3",
   "version": "3.11.10"
  }
 },
 "nbformat": 4,
 "nbformat_minor": 5
}
