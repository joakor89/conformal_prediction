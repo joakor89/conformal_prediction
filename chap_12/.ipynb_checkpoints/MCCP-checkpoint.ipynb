{
 "cells": [
  {
   "cell_type": "markdown",
   "id": "b7c20c53-dea4-4bfa-a423-2644581011c9",
   "metadata": {},
   "source": [
    "# Multi-Class Conformal Prediction\n",
    "\n",
    "### Getting Ext Repositories & Loading Libraries"
   ]
  },
  {
   "cell_type": "code",
   "execution_count": 1,
   "id": "accc9c3a-b612-4321-b668-d4543c9e2e4c",
   "metadata": {},
   "outputs": [
    {
     "name": "stdout",
     "output_type": "stream",
     "text": [
      "Requirement already satisfied: venn-abers in /opt/anaconda3/lib/python3.12/site-packages (1.4.6)\n",
      "Requirement already satisfied: numpy in /opt/anaconda3/lib/python3.12/site-packages (from venn-abers) (1.26.4)\n",
      "Requirement already satisfied: scikit-learn in /opt/anaconda3/lib/python3.12/site-packages (from venn-abers) (1.5.1)\n",
      "Requirement already satisfied: pandas in /opt/anaconda3/lib/python3.12/site-packages (from venn-abers) (2.2.2)\n",
      "Requirement already satisfied: python-dateutil>=2.8.2 in /opt/anaconda3/lib/python3.12/site-packages (from pandas->venn-abers) (2.9.0.post0)\n",
      "Requirement already satisfied: pytz>=2020.1 in /opt/anaconda3/lib/python3.12/site-packages (from pandas->venn-abers) (2024.1)\n",
      "Requirement already satisfied: tzdata>=2022.7 in /opt/anaconda3/lib/python3.12/site-packages (from pandas->venn-abers) (2023.3)\n",
      "Requirement already satisfied: scipy>=1.6.0 in /opt/anaconda3/lib/python3.12/site-packages (from scikit-learn->venn-abers) (1.13.1)\n",
      "Requirement already satisfied: joblib>=1.2.0 in /opt/anaconda3/lib/python3.12/site-packages (from scikit-learn->venn-abers) (1.4.2)\n",
      "Requirement already satisfied: threadpoolctl>=3.1.0 in /opt/anaconda3/lib/python3.12/site-packages (from scikit-learn->venn-abers) (3.5.0)\n",
      "Requirement already satisfied: six>=1.5 in /opt/anaconda3/lib/python3.12/site-packages (from python-dateutil>=2.8.2->pandas->venn-abers) (1.16.0)\n",
      "Requirement already satisfied: catboost in /opt/anaconda3/lib/python3.12/site-packages (1.2.7)\n",
      "Requirement already satisfied: graphviz in /opt/anaconda3/lib/python3.12/site-packages (from catboost) (0.20.3)\n",
      "Requirement already satisfied: matplotlib in /opt/anaconda3/lib/python3.12/site-packages (from catboost) (3.9.2)\n",
      "Requirement already satisfied: numpy<2.0,>=1.16.0 in /opt/anaconda3/lib/python3.12/site-packages (from catboost) (1.26.4)\n",
      "Requirement already satisfied: pandas>=0.24 in /opt/anaconda3/lib/python3.12/site-packages (from catboost) (2.2.2)\n",
      "Requirement already satisfied: scipy in /opt/anaconda3/lib/python3.12/site-packages (from catboost) (1.13.1)\n",
      "Requirement already satisfied: plotly in /opt/anaconda3/lib/python3.12/site-packages (from catboost) (5.24.1)\n",
      "Requirement already satisfied: six in /opt/anaconda3/lib/python3.12/site-packages (from catboost) (1.16.0)\n",
      "Requirement already satisfied: python-dateutil>=2.8.2 in /opt/anaconda3/lib/python3.12/site-packages (from pandas>=0.24->catboost) (2.9.0.post0)\n",
      "Requirement already satisfied: pytz>=2020.1 in /opt/anaconda3/lib/python3.12/site-packages (from pandas>=0.24->catboost) (2024.1)\n",
      "Requirement already satisfied: tzdata>=2022.7 in /opt/anaconda3/lib/python3.12/site-packages (from pandas>=0.24->catboost) (2023.3)\n",
      "Requirement already satisfied: contourpy>=1.0.1 in /opt/anaconda3/lib/python3.12/site-packages (from matplotlib->catboost) (1.2.0)\n",
      "Requirement already satisfied: cycler>=0.10 in /opt/anaconda3/lib/python3.12/site-packages (from matplotlib->catboost) (0.11.0)\n",
      "Requirement already satisfied: fonttools>=4.22.0 in /opt/anaconda3/lib/python3.12/site-packages (from matplotlib->catboost) (4.51.0)\n",
      "Requirement already satisfied: kiwisolver>=1.3.1 in /opt/anaconda3/lib/python3.12/site-packages (from matplotlib->catboost) (1.4.4)\n",
      "Requirement already satisfied: packaging>=20.0 in /opt/anaconda3/lib/python3.12/site-packages (from matplotlib->catboost) (24.1)\n",
      "Requirement already satisfied: pillow>=8 in /opt/anaconda3/lib/python3.12/site-packages (from matplotlib->catboost) (10.4.0)\n",
      "Requirement already satisfied: pyparsing>=2.3.1 in /opt/anaconda3/lib/python3.12/site-packages (from matplotlib->catboost) (3.1.2)\n",
      "Requirement already satisfied: tenacity>=6.2.0 in /opt/anaconda3/lib/python3.12/site-packages (from plotly->catboost) (8.2.3)\n",
      "Requirement already satisfied: dtype_diet in /opt/anaconda3/lib/python3.12/site-packages (0.0.2)\n",
      "Requirement already satisfied: pandas>=1.0.0 in /opt/anaconda3/lib/python3.12/site-packages (from dtype_diet) (2.2.2)\n",
      "Requirement already satisfied: tabulate in /opt/anaconda3/lib/python3.12/site-packages (from dtype_diet) (0.9.0)\n",
      "Requirement already satisfied: numpy>=1.26.0 in /opt/anaconda3/lib/python3.12/site-packages (from pandas>=1.0.0->dtype_diet) (1.26.4)\n",
      "Requirement already satisfied: python-dateutil>=2.8.2 in /opt/anaconda3/lib/python3.12/site-packages (from pandas>=1.0.0->dtype_diet) (2.9.0.post0)\n",
      "Requirement already satisfied: pytz>=2020.1 in /opt/anaconda3/lib/python3.12/site-packages (from pandas>=1.0.0->dtype_diet) (2024.1)\n",
      "Requirement already satisfied: tzdata>=2022.7 in /opt/anaconda3/lib/python3.12/site-packages (from pandas>=1.0.0->dtype_diet) (2023.3)\n",
      "Requirement already satisfied: six>=1.5 in /opt/anaconda3/lib/python3.12/site-packages (from python-dateutil>=2.8.2->pandas>=1.0.0->dtype_diet) (1.16.0)\n",
      "Requirement already satisfied: openml in /opt/anaconda3/lib/python3.12/site-packages (0.15.1)\n",
      "Requirement already satisfied: liac-arff>=2.4.0 in /opt/anaconda3/lib/python3.12/site-packages (from openml) (2.5.0)\n",
      "Requirement already satisfied: xmltodict in /opt/anaconda3/lib/python3.12/site-packages (from openml) (0.14.2)\n",
      "Requirement already satisfied: requests in /opt/anaconda3/lib/python3.12/site-packages (from openml) (2.32.3)\n",
      "Requirement already satisfied: scikit-learn>=0.18 in /opt/anaconda3/lib/python3.12/site-packages (from openml) (1.5.1)\n",
      "Requirement already satisfied: python-dateutil in /opt/anaconda3/lib/python3.12/site-packages (from openml) (2.9.0.post0)\n",
      "Requirement already satisfied: pandas>=1.0.0 in /opt/anaconda3/lib/python3.12/site-packages (from openml) (2.2.2)\n",
      "Requirement already satisfied: scipy>=0.13.3 in /opt/anaconda3/lib/python3.12/site-packages (from openml) (1.13.1)\n",
      "Requirement already satisfied: numpy>=1.6.2 in /opt/anaconda3/lib/python3.12/site-packages (from openml) (1.26.4)\n",
      "Requirement already satisfied: minio in /opt/anaconda3/lib/python3.12/site-packages (from openml) (7.2.15)\n",
      "Requirement already satisfied: pyarrow in /opt/anaconda3/lib/python3.12/site-packages (from openml) (16.1.0)\n",
      "Requirement already satisfied: tqdm in /opt/anaconda3/lib/python3.12/site-packages (from openml) (4.66.5)\n",
      "Requirement already satisfied: packaging in /opt/anaconda3/lib/python3.12/site-packages (from openml) (24.1)\n",
      "Requirement already satisfied: pytz>=2020.1 in /opt/anaconda3/lib/python3.12/site-packages (from pandas>=1.0.0->openml) (2024.1)\n",
      "Requirement already satisfied: tzdata>=2022.7 in /opt/anaconda3/lib/python3.12/site-packages (from pandas>=1.0.0->openml) (2023.3)\n",
      "Requirement already satisfied: six>=1.5 in /opt/anaconda3/lib/python3.12/site-packages (from python-dateutil->openml) (1.16.0)\n",
      "Requirement already satisfied: joblib>=1.2.0 in /opt/anaconda3/lib/python3.12/site-packages (from scikit-learn>=0.18->openml) (1.4.2)\n",
      "Requirement already satisfied: threadpoolctl>=3.1.0 in /opt/anaconda3/lib/python3.12/site-packages (from scikit-learn>=0.18->openml) (3.5.0)\n",
      "Requirement already satisfied: certifi in /opt/anaconda3/lib/python3.12/site-packages (from minio->openml) (2025.1.31)\n",
      "Requirement already satisfied: urllib3 in /opt/anaconda3/lib/python3.12/site-packages (from minio->openml) (2.2.3)\n",
      "Requirement already satisfied: argon2-cffi in /opt/anaconda3/lib/python3.12/site-packages (from minio->openml) (21.3.0)\n",
      "Requirement already satisfied: pycryptodome in /opt/anaconda3/lib/python3.12/site-packages (from minio->openml) (3.22.0)\n",
      "Requirement already satisfied: typing-extensions in /opt/anaconda3/lib/python3.12/site-packages (from minio->openml) (4.11.0)\n",
      "Requirement already satisfied: charset-normalizer<4,>=2 in /opt/anaconda3/lib/python3.12/site-packages (from requests->openml) (3.3.2)\n",
      "Requirement already satisfied: idna<4,>=2.5 in /opt/anaconda3/lib/python3.12/site-packages (from requests->openml) (3.7)\n",
      "Requirement already satisfied: argon2-cffi-bindings in /opt/anaconda3/lib/python3.12/site-packages (from argon2-cffi->minio->openml) (21.2.0)\n",
      "Requirement already satisfied: cffi>=1.0.1 in /opt/anaconda3/lib/python3.12/site-packages (from argon2-cffi-bindings->argon2-cffi->minio->openml) (1.17.1)\n",
      "Requirement already satisfied: pycparser in /opt/anaconda3/lib/python3.12/site-packages (from cffi>=1.0.1->argon2-cffi-bindings->argon2-cffi->minio->openml) (2.21)\n"
     ]
    }
   ],
   "source": [
    "!pip install --upgrade venn-abers\n",
    "\n",
    "!pip install catboost\n",
    "!pip install dtype_diet\n",
    "\n",
    "#install OpenML\n",
    "!pip install openml"
   ]
  },
  {
   "cell_type": "code",
   "execution_count": 2,
   "id": "3ca4cf87-a7df-43dc-a46b-fcb4d8c0c36b",
   "metadata": {},
   "outputs": [],
   "source": [
    "# Numerical Computing\n",
    "import numpy as np\n",
    "\n",
    "# Data Manipulation\n",
    "import pandas as pd\n",
    "\n",
    "# Data Visualization\n",
    "import seaborn as sns\n",
    "import plotly.io as pio\n",
    "from plotly import tools\n",
    "import plotly.graph_objs as go\n",
    "import matplotlib.pyplot as plt\n",
    "import plotly.figure_factory as ff\n",
    "from plotly.subplots import make_subplots\n",
    "from plotly.offline import download_plotlyjs, init_notebook_mode, plot, iplot\n",
    "\n",
    "# PyTorch\n",
    "import torch\n",
    "\n",
    "# Path & Fetching\n",
    "import openml\n",
    "\n",
    "# Date & Time\n",
    "import time\n",
    "from datetime import datetime\n",
    "\n",
    "# Warnings\n",
    "import warnings\n",
    "\n",
    "# Notebook Optimizer\n",
    "from tqdm import tqdm\n",
    "\n",
    "# OS\n",
    "from dtype_diet import report_on_dataframe, optimize_dtypes\n",
    "\n",
    "# GC\n",
    "import gc\n",
    "\n",
    "#Scikit-Learn\n",
    "from sklearn import svm\n",
    "\n",
    "from sklearn.svm import SVC, LinearSVC\n",
    "from sklearn.dummy import DummyClassifier\n",
    "from sklearn.model_selection import KFold\n",
    "from sklearn.naive_bayes import GaussianNB\n",
    "from sklearn.ensemble import AdaBoostClassifier\n",
    "from sklearn.tree import DecisionTreeClassifier\n",
    "from sklearn.isotonic import IsotonicRegression\n",
    "from sklearn.preprocessing import LabelBinarizer\n",
    "from sklearn.neural_network import MLPClassifier\n",
    "from sklearn.neighbors import KNeighborsClassifier\n",
    "from sklearn.linear_model import LogisticRegression\n",
    "from sklearn.ensemble import RandomForestClassifier\n",
    "from sklearn.model_selection import train_test_split\n",
    "from sklearn.model_selection import cross_val_predict\n",
    "from sklearn.calibration import CalibratedClassifierCV\n",
    "from sklearn.calibration import CalibrationDisplay, calibration_curve\n",
    "from sklearn.metrics import accuracy_score, balanced_accuracy_score, precision_score\n",
    "from sklearn.metrics import average_precision_score, recall_score, f1_score, roc_auc_score, log_loss, brier_score_loss\n",
    "\n",
    "\n",
    "# Categorical Boosting (CatBoost)\n",
    "from catboost import CatBoostClassifier\n",
    "\n",
    "# Light Gradient Boosting \n",
    "from lightgbm import LGBMClassifier\n",
    "\n",
    "# VennAbers\n",
    "from venn_abers import VennAbersCalibrator\n",
    "\n",
    "# SciPy\n",
    "from scipy.io import arff"
   ]
  },
  {
   "cell_type": "code",
   "execution_count": 3,
   "id": "a0687226-ee9c-441d-832b-157a37eb780e",
   "metadata": {},
   "outputs": [],
   "source": [
    "# Google Colab Render\n",
    "pio.renderers.default = 'colab'\n",
    "\n",
    "# Seabor styling Set-Up\n",
    "sns.set_style(\"whitegrid\")\n",
    "\n",
    "# Warnings\n",
    "warnings.filterwarnings('ignore')\n",
    "\n",
    "# Pandas Set-Up\n",
    "pd.set_option('display.max_columns', 100)"
   ]
  },
  {
   "cell_type": "code",
   "execution_count": 4,
   "id": "57900d93-471e-413a-996c-1c24144b7bae",
   "metadata": {},
   "outputs": [
    {
     "data": {
      "text/html": [
       "        <script type=\"text/javascript\">\n",
       "        window.PlotlyConfig = {MathJaxConfig: 'local'};\n",
       "        if (window.MathJax && window.MathJax.Hub && window.MathJax.Hub.Config) {window.MathJax.Hub.Config({SVG: {font: \"STIX-Web\"}});}\n",
       "        </script>\n",
       "        <script type=\"module\">import \"https://cdn.plot.ly/plotly-3.0.1.min\"</script>\n",
       "        "
      ]
     },
     "metadata": {},
     "output_type": "display_data"
    }
   ],
   "source": [
    "init_notebook_mode(connected=True)"
   ]
  },
  {
   "cell_type": "markdown",
   "id": "adab5be8-ac38-4338-99d5-6cfcb15f497f",
   "metadata": {},
   "source": [
    "#### Checking CUDA GPU Support"
   ]
  },
  {
   "cell_type": "code",
   "execution_count": 5,
   "id": "d90e1899-f109-462e-a21e-8b7572e95394",
   "metadata": {},
   "outputs": [
    {
     "name": "stdout",
     "output_type": "stream",
     "text": [
      "CUDA (GPU support) is available: False\n"
     ]
    }
   ],
   "source": [
    "is_cuda_available = torch.cuda.is_available()\n",
    "\n",
    "print(f\"CUDA (GPU support) is available: {is_cuda_available}\")"
   ]
  },
  {
   "cell_type": "markdown",
   "id": "3b043e1e-5e4f-44f1-916f-7f377702b096",
   "metadata": {},
   "source": [
    "### Loading Dataset"
   ]
  },
  {
   "cell_type": "code",
   "execution_count": 6,
   "id": "5e7a2495-0185-4d12-9602-41eaeb905563",
   "metadata": {},
   "outputs": [
    {
     "name": "stdout",
     "output_type": "stream",
     "text": [
      "    did             name  version uploader  status format  MajorityClassSize  \\\n",
      "2     2           anneal        1        1  active   ARFF              684.0   \n",
      "3     3         kr-vs-kp        1        1  active   ARFF             1669.0   \n",
      "4     4            labor        1        1  active   ARFF               37.0   \n",
      "5     5       arrhythmia        1        1  active   ARFF              245.0   \n",
      "6     6           letter        1        1  active   ARFF              813.0   \n",
      "7     7        audiology        1        1  active   ARFF               57.0   \n",
      "8     8  liver-disorders        1        1  active   ARFF                NaN   \n",
      "9     9            autos        1        1  active   ARFF               67.0   \n",
      "10   10            lymph        1        1  active   ARFF               81.0   \n",
      "11   11    balance-scale        1        1  active   ARFF              288.0   \n",
      "\n",
      "    MaxNominalAttDistinctValues  MinorityClassSize  NumberOfClasses  \\\n",
      "2                           7.0                8.0              5.0   \n",
      "3                           3.0             1527.0              2.0   \n",
      "4                           3.0               20.0              2.0   \n",
      "5                          13.0                2.0             13.0   \n",
      "6                          26.0              734.0             26.0   \n",
      "7                          24.0                1.0             24.0   \n",
      "8                           NaN                NaN              0.0   \n",
      "9                          22.0                3.0              6.0   \n",
      "10                          8.0                2.0              4.0   \n",
      "11                          3.0               49.0              3.0   \n",
      "\n",
      "    NumberOfFeatures  NumberOfInstances  NumberOfInstancesWithMissingValues  \\\n",
      "2               39.0              898.0                               898.0   \n",
      "3               37.0             3196.0                                 0.0   \n",
      "4               17.0               57.0                                56.0   \n",
      "5              280.0              452.0                               384.0   \n",
      "6               17.0            20000.0                                 0.0   \n",
      "7               70.0              226.0                               222.0   \n",
      "8                6.0              345.0                                 0.0   \n",
      "9               26.0              205.0                                46.0   \n",
      "10              19.0              148.0                                 0.0   \n",
      "11               5.0              625.0                                 0.0   \n",
      "\n",
      "    NumberOfMissingValues  NumberOfNumericFeatures  NumberOfSymbolicFeatures  \n",
      "2                 22175.0                      6.0                      33.0  \n",
      "3                     0.0                      0.0                      37.0  \n",
      "4                   326.0                      8.0                       9.0  \n",
      "5                   408.0                    206.0                      74.0  \n",
      "6                     0.0                     16.0                       1.0  \n",
      "7                   317.0                      0.0                      70.0  \n",
      "8                     0.0                      6.0                       0.0  \n",
      "9                    59.0                     15.0                      11.0  \n",
      "10                    0.0                      3.0                      16.0  \n",
      "11                    0.0                      4.0                       1.0  \n"
     ]
    }
   ],
   "source": [
    "datasets_df = openml.datasets.list_datasets(output_format=\"dataframe\")\n",
    "print(datasets_df.head(n=10))\n",
    "\n",
    "datasets_df.set_index('did', inplace = True)"
   ]
  },
  {
   "cell_type": "code",
   "execution_count": null,
   "id": "17ab886b-4b39-43c0-9840-84a5a89377ef",
   "metadata": {},
   "outputs": [],
   "source": []
  },
  {
   "cell_type": "code",
   "execution_count": 9,
   "id": "cabf2478-c95e-4db1-83e4-6caae2677b33",
   "metadata": {},
   "outputs": [
    {
     "data": {
      "image/png": "[encoded data removed]",
      "text/plain": [
       "<Figure size 640x480 with 1 Axes>"
      ]
     },
     "metadata": {},
     "output_type": "display_data"
    }
   ],
   "source": [
    "datasets_df[datasets_df['NumberOfClasses'] > 2]['NumberOfClasses'].value_counts()[:20].plot(kind = 'bar', color='forestgreen')\n",
    "\n",
    "plt.title('Count of Datasets with Various Number of Classes in OpenML')\n",
    "plt.show()"
   ]
  },
  {
   "cell_type": "markdown",
   "id": "390445e6-2a5b-41fc-a0fe-74d1ec32c590",
   "metadata": {},
   "source": [
    "#### `Dataset Selection`: Information Output "
   ]
  },
  {
   "cell_type": "code",
   "execution_count": 10,
   "id": "3f3750a7-58ba-44bd-a03c-474df21343f0",
   "metadata": {},
   "outputs": [
    {
     "data": {
      "text/plain": [
       "name                                  Satellite\n",
       "version                                       1\n",
       "uploader                                   3768\n",
       "status                                   active\n",
       "format                                     ARFF\n",
       "MajorityClassSize                        5025.0\n",
       "MaxNominalAttDistinctValues                 2.0\n",
       "MinorityClassSize                          75.0\n",
       "NumberOfClasses                             2.0\n",
       "NumberOfFeatures                           37.0\n",
       "NumberOfInstances                        5100.0\n",
       "NumberOfInstancesWithMissingValues          0.0\n",
       "NumberOfMissingValues                       0.0\n",
       "NumberOfNumericFeatures                    36.0\n",
       "NumberOfSymbolicFeatures                    1.0\n",
       "Name: 40900, dtype: object"
      ]
     },
     "execution_count": 10,
     "metadata": {},
     "output_type": "execute_result"
    }
   ],
   "source": [
    "datasets_df.loc[40900]    "
   ]
  },
  {
   "cell_type": "markdown",
   "id": "e295812f-8f5c-4a4a-8fef-d6c07413a273",
   "metadata": {},
   "source": [
    "#### Satellite Dataset `https://www.openml.org/d/182`"
   ]
  },
  {
   "cell_type": "code",
   "execution_count": 11,
   "id": "62e20174-4396-44c8-a549-cd5cc7985bff",
   "metadata": {},
   "outputs": [
    {
     "name": "stdout",
     "output_type": "stream",
     "text": [
      "This is dataset 'satimage', the target feature is 'class'\n",
      "URL: https://api.openml.org/data/v1/download/3619/satimage.arff\n",
      "**Author**: Ashwin Srinivasan, Department of Statistics and Data Modeling, University of Strathclyde  \n",
      "**Source**: [UCI](https://archive.ics.uci.edu/ml/datasets/Statlog+(Landsat+Satellite)) - 1993  \n",
      "**Please cite**: [UCI](https://archive.ics.uci.edu/ml/citation_policy.html)  \n",
      "\n",
      "The database consists of the multi-spectral values of pixels in 3x3 neighbourhoods in a satellite image, and the classification associated with the central pixel in each neighbourhood. The aim is to predict this classifica\n"
     ]
    }
   ],
   "source": [
    "dataset = openml.datasets.get_dataset( 182)\n",
    "\n",
    "# Sumamry Print\n",
    "print(\n",
    "    f\"This is dataset '{dataset.name}', the target feature is \"\n",
    "    f\"'{dataset.default_target_attribute}'\"\n",
    ")\n",
    "print(f\"URL: {dataset.url}\")\n",
    "print(dataset.description[:500])"
   ]
  },
  {
   "cell_type": "code",
   "execution_count": null,
   "id": "2c2df349-72eb-49e8-a664-1e89def02673",
   "metadata": {},
   "outputs": [],
   "source": []
  }
 ],
 "metadata": {
  "kernelspec": {
   "display_name": "Python 3 (ipykernel)",
   "language": "python",
   "name": "python3"
  },
  "language_info": {
   "codemirror_mode": {
    "name": "ipython",
    "version": 3
   },
   "file_extension": ".py",
   "mimetype": "text/x-python",
   "name": "python",
   "nbconvert_exporter": "python",
   "pygments_lexer": "ipython3",
   "version": "3.12.9"
  }
 },
 "nbformat": 4,
 "nbformat_minor": 5
}
