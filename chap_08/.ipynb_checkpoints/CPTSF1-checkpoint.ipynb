{
 "cells": [
  {
   "cell_type": "markdown",
   "id": "ba7963eb-febf-4c6c-856f-92480213dfd3",
   "metadata": {},
   "source": [
    "# Ensemble Batch PIs\n",
    "\n",
    "### Loading Libraries"
   ]
  },
  {
   "cell_type": "code",
   "execution_count": 2,
   "id": "ab04f5fa-02e5-460e-b625-9f7cba543fed",
   "metadata": {},
   "outputs": [],
   "source": [
    "# Numerical Computing\n",
    "import numpy as np\n",
    "\n",
    "# Data Manipulation\n",
    "import pandas as pd\n",
    "\n",
    "# Warnings\n",
    "import warnings\n",
    "warnings.filterwarnings('ignore')\n",
    "\n",
    "#Dat Visualization\n",
    "import plotly.express as px\n",
    "import matplotlib.pyplot as plt\n",
    "import plotly.graph_objects as go\n",
    "from matplotlib.ticker import FormatStrFormatter\n",
    "from yellowbrick.regressor import PredictionError\n",
    "from matplotlib.offsetbox import AnnotationBbox, TextArea\n",
    "\n",
    "\n",
    "\n",
    "# SciPy\n",
    "from scipy.stats import rankdata\n",
    "from scipy.stats import randint, uniform\n",
    "\n",
    "#\n",
    "import openml\n",
    "\n",
    "# Notebook Opt\n",
    "from tqdm import tqdm\n",
    "\n",
    "# Crepes\n",
    "from crepes import WrapRegressor\n",
    "from crepes.extras import binning\n",
    "from crepes.extras import DifficultyEstimator\n",
    "\n",
    "# Mapie\n",
    "from mapie.subsample import Subsample\n",
    "from mapie.regression import MapieQuantileRegressor, MapieRegressor\n",
    "from mapie.metrics import regression_coverage_score, regression_mean_width_score\n",
    "\n",
    "# Scikit-Learn\n",
    "from sklearn.svm import SVC, LinearSVC\n",
    "from sklearn.datasets import fetch_openml\n",
    "from sklearn.naive_bayes import GaussianNB\n",
    "from sklearn.pipeline import make_pipeline\n",
    "from sklearn.compose import ColumnTransformer\n",
    "from sklearn.tree import DecisionTreeClassifier\n",
    "from sklearn.neighbors import KNeighborsClassifier\n",
    "from sklearn.linear_model import LogisticRegression\n",
    "from sklearn.preprocessing import label_binarize, LabelEncoder\n",
    "from sklearn.preprocessing import label_binarize, OrdinalEncoder\n",
    "from sklearn.model_selection import train_test_split, KFold, RandomizedSearchCV\n",
    "from sklearn.metrics import log_loss, accuracy_score, roc_auc_score, confusion_matrix\n",
    "from sklearn.ensemble import RandomForestClassifier, RandomForestRegressor,AdaBoostClassifier, HistGradientBoostingRegressor\n",
    "\n",
    "# Boosting Libraries\n",
    "from lightgbm import LGBMRegressor\n",
    "from lightgbm import LGBMClassifier\n",
    "from xgboost import XGBClassifier\n",
    "from catboost import CatBoostClassifier\n",
    "\n",
    "# Conformal Libraries\n",
    "from nonconformist.nc import NcFactory\n",
    "from nonconformist.cp import IcpClassifier\n",
    "from nonconformist.cp import TcpClassifier\n",
    "from nonconformist.base import ClassifierAdapter\n",
    "from nonconformist.nc import InverseProbabilityErrFunc, MarginErrFunc, ClassifierNc\n",
    "\n",
    "# import fortuna"
   ]
  },
  {
   "cell_type": "code",
   "execution_count": 3,
   "id": "2c46eb98-2a68-476d-93ed-2430f12f8873",
   "metadata": {},
   "outputs": [
    {
     "ename": "ModuleNotFoundError",
     "evalue": "No module named 'fortuna'",
     "output_type": "error",
     "traceback": [
      "\u001b[0;31m---------------------------------------------------------------------------\u001b[0m",
      "\u001b[0;31mModuleNotFoundError\u001b[0m                       Traceback (most recent call last)",
      "Cell \u001b[0;32mIn[3], line 1\u001b[0m\n\u001b[0;32m----> 1\u001b[0m \u001b[38;5;28;01mfrom\u001b[39;00m \u001b[38;5;21;01mfortuna\u001b[39;00m\u001b[38;5;21;01m.\u001b[39;00m\u001b[38;5;21;01mconformal\u001b[39;00m \u001b[38;5;28;01mimport\u001b[39;00m EnbPI\n\u001b[1;32m      2\u001b[0m \u001b[38;5;28;01mfrom\u001b[39;00m \u001b[38;5;21;01mfortuna\u001b[39;00m\u001b[38;5;21;01m.\u001b[39;00m\u001b[38;5;21;01mmetric\u001b[39;00m\u001b[38;5;21;01m.\u001b[39;00m\u001b[38;5;21;01mregression\u001b[39;00m \u001b[38;5;28;01mimport\u001b[39;00m prediction_interval_coverage_probability\n",
      "\u001b[0;31mModuleNotFoundError\u001b[0m: No module named 'fortuna'"
     ]
    }
   ],
   "source": [
    "from fortuna.conformal import EnbPI\n",
    "from fortuna.metric.regression import prediction_interval_coverage_probability"
   ]
  },
  {
   "cell_type": "code",
   "execution_count": 4,
   "id": "48fb383e-93b6-48f6-a109-7477212d5b5d",
   "metadata": {},
   "outputs": [
    {
     "ename": "ModuleNotFoundError",
     "evalue": "No module named 'fortuna'",
     "output_type": "error",
     "traceback": [
      "\u001b[0;31m---------------------------------------------------------------------------\u001b[0m",
      "\u001b[0;31mModuleNotFoundError\u001b[0m                       Traceback (most recent call last)",
      "Cell \u001b[0;32mIn[4], line 1\u001b[0m\n\u001b[0;32m----> 1\u001b[0m \u001b[38;5;28;01mimport\u001b[39;00m \u001b[38;5;21;01mfortuna\u001b[39;00m\n\u001b[1;32m      2\u001b[0m \u001b[38;5;28mprint\u001b[39m(fortuna\u001b[38;5;241m.\u001b[39m__version__)\n",
      "\u001b[0;31mModuleNotFoundError\u001b[0m: No module named 'fortuna'"
     ]
    }
   ],
   "source": []
  },
  {
   "cell_type": "code",
   "execution_count": null,
   "id": "e487831f-566e-456e-b7cf-2b521c59a658",
   "metadata": {},
   "outputs": [],
   "source": []
  }
 ],
 "metadata": {
  "kernelspec": {
   "display_name": "Python 3 (ipykernel)",
   "language": "python",
   "name": "python3"
  },
  "language_info": {
   "codemirror_mode": {
    "name": "ipython",
    "version": 3
   },
   "file_extension": ".py",
   "mimetype": "text/x-python",
   "name": "python",
   "nbconvert_exporter": "python",
   "pygments_lexer": "ipython3",
   "version": "3.12.9"
  }
 },
 "nbformat": 4,
 "nbformat_minor": 5
}
