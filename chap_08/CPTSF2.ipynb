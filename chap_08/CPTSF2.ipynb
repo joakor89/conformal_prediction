{
 "cells": [
  {
   "cell_type": "markdown",
   "id": "f9fca0a7-a8f9-43f0-bba4-272b982f3c83",
   "metadata": {},
   "source": [
    "# NeuralProphet\n",
    "\n",
    "### Loading Libraries"
   ]
  },
  {
   "cell_type": "code",
   "execution_count": 1,
   "id": "f93f988a-74a1-4fac-a67d-d9dcbea5dcb3",
   "metadata": {},
   "outputs": [],
   "source": [
    "# Numerical Computing\n",
    "import numpy as np\n",
    "\n",
    "# Data Manipulation\n",
    "import pandas as pd\n",
    "\n",
    "# Warnings\n",
    "import warnings"
   ]
  },
  {
   "cell_type": "code",
   "execution_count": 2,
   "id": "cd30fe8e-9303-4f8f-a919-79bd83a981ac",
   "metadata": {},
   "outputs": [],
   "source": [
    "warnings.filterwarnings('ignore')"
   ]
  },
  {
   "cell_type": "code",
   "execution_count": 3,
   "id": "85ccc5ba-aa4b-4775-a87b-9d15afd26429",
   "metadata": {},
   "outputs": [],
   "source": [
    "# !pip install neuralprophet"
   ]
  },
  {
   "cell_type": "code",
   "execution_count": null,
   "id": "cd595563-5b9a-4c4c-ad76-2fd51f84cc75",
   "metadata": {},
   "outputs": [],
   "source": [
    "### Retrieving Data"
   ]
  },
  {
   "cell_type": "code",
   "execution_count": null,
   "id": "a5777d21-c9a1-4a2b-b802-332876b2eb1a",
   "metadata": {},
   "outputs": [],
   "source": [
    "# GitHub Fetch\n",
    "data_location = \"http://raw.githubusercontent.com/ourownstory/neuralprophet-data/main/datasets/\"\n",
    "\n",
    "# Panda DataFrame\n",
    "df = pd.read_csv(data_location + \"energy/SF_hospital_load.csv\")"
   ]
  },
  {
   "cell_type": "code",
   "execution_count": null,
   "id": "c021cd02-2994-46c3-9f07-208f25f6404c",
   "metadata": {},
   "outputs": [],
   "source": [
    "df.head(5)"
   ]
  },
  {
   "cell_type": "code",
   "execution_count": null,
   "id": "7c10b3e0-e5b4-4a07-bd56-f9d70f93f7e2",
   "metadata": {},
   "outputs": [],
   "source": []
  },
  {
   "cell_type": "code",
   "execution_count": null,
   "id": "249ce2ff-21d6-44c5-bbe6-5ba37f60abfb",
   "metadata": {},
   "outputs": [],
   "source": []
  }
 ],
 "metadata": {
  "kernelspec": {
   "display_name": "Python 3 (ipykernel)",
   "language": "python",
   "name": "python3"
  },
  "language_info": {
   "codemirror_mode": {
    "name": "ipython",
    "version": 3
   },
   "file_extension": ".py",
   "mimetype": "text/x-python",
   "name": "python",
   "nbconvert_exporter": "python",
   "pygments_lexer": "ipython3",
   "version": "3.12.9"
  }
 },
 "nbformat": 4,
 "nbformat_minor": 5
}
