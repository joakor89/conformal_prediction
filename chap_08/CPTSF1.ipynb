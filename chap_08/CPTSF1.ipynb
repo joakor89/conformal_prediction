{
 "cells": [
  {
   "cell_type": "markdown",
   "id": "ba7963eb-febf-4c6c-856f-92480213dfd3",
   "metadata": {},
   "source": [
    "#\n",
    "\n",
    "### Loading Libraries"
   ]
  },
  {
   "cell_type": "code",
   "execution_count": 7,
   "id": "ab04f5fa-02e5-460e-b625-9f7cba543fed",
   "metadata": {},
   "outputs": [
    {
     "name": "stdout",
     "output_type": "stream",
     "text": [
      "\u001b[31mERROR: Ignored the following versions that require a different python version: 0.1.1 Requires-Python >=3.8,<3.11; 0.1.10 Requires-Python >=3.8,<3.11; 0.1.11 Requires-Python >=3.8,<3.11; 0.1.12 Requires-Python >=3.8,<3.11; 0.1.13 Requires-Python >=3.8,<3.11; 0.1.14 Requires-Python >=3.8,<3.11; 0.1.15 Requires-Python >=3.8,<3.11; 0.1.16 Requires-Python >=3.8,<3.11; 0.1.17 Requires-Python >=3.8,<3.11; 0.1.18 Requires-Python >=3.8,<3.11; 0.1.19 Requires-Python >=3.8,<3.11; 0.1.2 Requires-Python >=3.8,<3.11; 0.1.20 Requires-Python >=3.8,<3.11; 0.1.21 Requires-Python >=3.8,<3.11; 0.1.22 Requires-Python >=3.8,<3.11; 0.1.23 Requires-Python >=3.8,<3.11; 0.1.24 Requires-Python >=3.8,<3.11; 0.1.25 Requires-Python >=3.8,<3.11; 0.1.26 Requires-Python >=3.8,<3.11; 0.1.27 Requires-Python >=3.8,<3.11; 0.1.28 Requires-Python >=3.8,<3.11; 0.1.29 Requires-Python >=3.8,<3.11; 0.1.3 Requires-Python >=3.8,<3.11; 0.1.32 Requires-Python >=3.8,<3.11; 0.1.33 Requires-Python >=3.8,<3.11; 0.1.34 Requires-Python >=3.8,<3.11; 0.1.35 Requires-Python >=3.8,<3.11; 0.1.36 Requires-Python >=3.8,<3.11; 0.1.37 Requires-Python >=3.8,<3.11; 0.1.38 Requires-Python >=3.8,<3.11; 0.1.39 Requires-Python >=3.8,<3.11; 0.1.4 Requires-Python >=3.8,<3.11; 0.1.40 Requires-Python >=3.8,<3.12; 0.1.41 Requires-Python >=3.8,<3.12; 0.1.42 Requires-Python >=3.8,<3.12; 0.1.44 Requires-Python >=3.8,<3.12; 0.1.45 Requires-Python >=3.8,<3.12; 0.1.5 Requires-Python >=3.8,<3.11; 0.1.6 Requires-Python >=3.8,<3.11; 0.1.7 Requires-Python >=3.8,<3.11; 0.1.8 Requires-Python >=3.8,<3.11; 0.1.9 Requires-Python >=3.8,<3.11; 0.2.0 Requires-Python <3.12,>=3.9\u001b[0m\u001b[31m\n",
      "\u001b[0m\u001b[31mERROR: Could not find a version that satisfies the requirement aws-fortuna (from versions: none)\u001b[0m\u001b[31m\n",
      "\u001b[31mERROR: No matching distribution found for aws-fortuna\u001b[0m\u001b[31m\n",
      "\u001b[0m"
     ]
    }
   ],
   "source": [
    "# Numerical Computing\n",
    "import numpy as np\n",
    "\n",
    "# Data Manipulation\n",
    "import pandas as pd\n",
    "\n",
    "# Warnings\n",
    "import warnings\n",
    "warnings.filterwarnings('ignore')\n",
    "\n",
    "#Dat Visualization\n",
    "import plotly.express as px\n",
    "import matplotlib.pyplot as plt\n",
    "import plotly.graph_objects as go\n",
    "from matplotlib.ticker import FormatStrFormatter\n",
    "from yellowbrick.regressor import PredictionError\n",
    "from matplotlib.offsetbox import AnnotationBbox, TextArea\n",
    "\n",
    "\n",
    "\n",
    "# SciPy\n",
    "from scipy.stats import rankdata\n",
    "from scipy.stats import randint, uniform\n",
    "\n",
    "#\n",
    "import openml\n",
    "\n",
    "# Notebook Opt\n",
    "from tqdm import tqdm\n",
    "\n",
    "# Crepes\n",
    "from crepes import WrapRegressor\n",
    "from crepes.extras import binning\n",
    "from crepes.extras import DifficultyEstimator\n",
    "\n",
    "# Mapie\n",
    "from mapie.subsample import Subsample\n",
    "from mapie.regression import MapieQuantileRegressor, MapieRegressor\n",
    "from mapie.metrics import regression_coverage_score, regression_mean_width_score\n",
    "\n",
    "# Scikit-Learn\n",
    "from sklearn.svm import SVC, LinearSVC\n",
    "from sklearn.datasets import fetch_openml\n",
    "from sklearn.naive_bayes import GaussianNB\n",
    "from sklearn.pipeline import make_pipeline\n",
    "from sklearn.compose import ColumnTransformer\n",
    "from sklearn.tree import DecisionTreeClassifier\n",
    "from sklearn.neighbors import KNeighborsClassifier\n",
    "from sklearn.linear_model import LogisticRegression\n",
    "from sklearn.preprocessing import label_binarize, LabelEncoder\n",
    "from sklearn.preprocessing import label_binarize, OrdinalEncoder\n",
    "from sklearn.model_selection import train_test_split, KFold, RandomizedSearchCV\n",
    "from sklearn.metrics import log_loss, accuracy_score, roc_auc_score, confusion_matrix\n",
    "from sklearn.ensemble import RandomForestClassifier, RandomForestRegressor,AdaBoostClassifier, HistGradientBoostingRegressor\n",
    "\n",
    "# Boosting Libraries\n",
    "from lightgbm import LGBMRegressor\n",
    "from lightgbm import LGBMClassifier\n",
    "from xgboost import XGBClassifier\n",
    "from catboost import CatBoostClassifier\n",
    "\n",
    "# Conformal Libraries\n",
    "from nonconformist.nc import NcFactory\n",
    "from nonconformist.cp import IcpClassifier\n",
    "from nonconformist.cp import TcpClassifier\n",
    "from nonconformist.base import ClassifierAdapter\n",
    "from nonconformist.nc import InverseProbabilityErrFunc, MarginErrFunc, ClassifierNc\n",
    "\n",
    "# import fortuna"
   ]
  },
  {
   "cell_type": "code",
   "execution_count": 3,
   "id": "2c46eb98-2a68-476d-93ed-2430f12f8873",
   "metadata": {},
   "outputs": [
    {
     "ename": "ModuleNotFoundError",
     "evalue": "No module named 'fortuna'",
     "output_type": "error",
     "traceback": [
      "\u001b[0;31m---------------------------------------------------------------------------\u001b[0m",
      "\u001b[0;31mModuleNotFoundError\u001b[0m                       Traceback (most recent call last)",
      "Cell \u001b[0;32mIn[3], line 1\u001b[0m\n\u001b[0;32m----> 1\u001b[0m \u001b[38;5;28;01mfrom\u001b[39;00m \u001b[38;5;21;01mfortuna\u001b[39;00m\u001b[38;5;21;01m.\u001b[39;00m\u001b[38;5;21;01mconformal\u001b[39;00m \u001b[38;5;28;01mimport\u001b[39;00m EnbPI\n\u001b[1;32m      2\u001b[0m \u001b[38;5;28;01mfrom\u001b[39;00m \u001b[38;5;21;01mfortuna\u001b[39;00m\u001b[38;5;21;01m.\u001b[39;00m\u001b[38;5;21;01mmetric\u001b[39;00m\u001b[38;5;21;01m.\u001b[39;00m\u001b[38;5;21;01mregression\u001b[39;00m \u001b[38;5;28;01mimport\u001b[39;00m prediction_interval_coverage_probability\n",
      "\u001b[0;31mModuleNotFoundError\u001b[0m: No module named 'fortuna'"
     ]
    }
   ],
   "source": [
    "from fortuna.conformal import EnbPI\n",
    "from fortuna.metric.regression import prediction_interval_coverage_probability"
   ]
  },
  {
   "cell_type": "code",
   "execution_count": null,
   "id": "48fb383e-93b6-48f6-a109-7477212d5b5d",
   "metadata": {},
   "outputs": [],
   "source": []
  }
 ],
 "metadata": {
  "kernelspec": {
   "display_name": "Python 3 (ipykernel)",
   "language": "python",
   "name": "python3"
  },
  "language_info": {
   "codemirror_mode": {
    "name": "ipython",
    "version": 3
   },
   "file_extension": ".py",
   "mimetype": "text/x-python",
   "name": "python",
   "nbconvert_exporter": "python",
   "pygments_lexer": "ipython3",
   "version": "3.12.9"
  }
 },
 "nbformat": 4,
 "nbformat_minor": 5
}
