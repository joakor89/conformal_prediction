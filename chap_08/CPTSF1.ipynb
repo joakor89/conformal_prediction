{
 "cells": [
  {
   "cell_type": "markdown",
   "metadata": {
    "cell_id": "31d08e3f58284d3db16b2ba742a26dc0",
    "deepnote_cell_type": "text-cell-h1",
    "formattedRanges": []
   },
   "source": [
    "# Ensemble Batch PI's"
   ]
  },
  {
   "cell_type": "markdown",
   "metadata": {
    "cell_id": "4c04eb88cfe946a59331b59fa30ed6c5",
    "deepnote_cell_type": "text-cell-h3",
    "formattedRanges": []
   },
   "source": [
    "### Loading Libraries"
   ]
  },
  {
   "cell_type": "code",
   "execution_count": 1,
   "metadata": {
    "cell_id": "d0309545f9b44068bc1fbdac940c61a4",
    "deepnote_cell_type": "code",
    "execution_context_id": "ffabf25e-a440-4f37-a350-e37d866905b8",
    "execution_millis": 1509,
    "execution_start": 1742571931351,
    "source_hash": "295004a4"
   },
   "outputs": [],
   "source": [
    "# Numerical Computing\n",
    "import numpy as np\n",
    "\n",
    "# Data Manipulation\n",
    "import pandas as pd\n",
    "\n",
    "# Warnings\n",
    "import warnings\n",
    "warnings.filterwarnings('ignore')\n",
    "\n",
    "#Data Visualization\n",
    "import plotly.express as px\n",
    "import matplotlib.pyplot as plt\n",
    "import plotly.graph_objects as go\n",
    "from matplotlib.ticker import FormatStrFormatter\n",
    "from yellowbrick.regressor import PredictionError\n",
    "from matplotlib.offsetbox import AnnotationBbox, TextArea\n",
    "\n",
    "# SciPy\n",
    "from scipy.stats import rankdata\n",
    "from scipy.stats import randint, uniform\n",
    "\n",
    "#\n",
    "import openml\n",
    "\n",
    "# Notebook Opt\n",
    "from tqdm import tqdm\n",
    "\n",
    "# Crepes\n",
    "from crepes import WrapRegressor\n",
    "from crepes.extras import binning\n",
    "from crepes.extras import DifficultyEstimator\n",
    "\n",
    "# Mapie\n",
    "from mapie.subsample import Subsample\n",
    "from mapie.regression import MapieQuantileRegressor, MapieRegressor\n",
    "from mapie.metrics import regression_coverage_score, regression_mean_width_score\n",
    "\n",
    "# Scikit-Learn\n",
    "from sklearn.svm import SVC, LinearSVC\n",
    "from sklearn.datasets import fetch_openml\n",
    "from sklearn.naive_bayes import GaussianNB\n",
    "from sklearn.pipeline import make_pipeline\n",
    "from sklearn.compose import ColumnTransformer\n",
    "from sklearn.tree import DecisionTreeClassifier\n",
    "from sklearn.neighbors import KNeighborsClassifier\n",
    "from sklearn.linear_model import LogisticRegression\n",
    "from sklearn.preprocessing import label_binarize, LabelEncoder\n",
    "from sklearn.preprocessing import label_binarize, OrdinalEncoder\n",
    "from sklearn.model_selection import train_test_split, KFold, RandomizedSearchCV\n",
    "from sklearn.metrics import log_loss, accuracy_score, roc_auc_score, confusion_matrix\n",
    "from sklearn.ensemble import RandomForestClassifier, RandomForestRegressor,AdaBoostClassifier, HistGradientBoostingRegressor\n",
    "\n",
    "# Boosting Libraries\n",
    "from lightgbm import LGBMRegressor\n",
    "from lightgbm import LGBMClassifier\n",
    "from xgboost import XGBClassifier\n",
    "from catboost import CatBoostClassifier\n",
    "\n",
    "# Conformal Libraries\n",
    "from nonconformist.nc import NcFactory\n",
    "from nonconformist.cp import IcpClassifier\n",
    "from nonconformist.cp import TcpClassifier\n",
    "from nonconformist.base import ClassifierAdapter\n",
    "from nonconformist.nc import InverseProbabilityErrFunc, MarginErrFunc, ClassifierNc"
   ]
  },
  {
   "cell_type": "markdown",
   "metadata": {
    "cell_id": "4efc8ccb8f63478e83ebc2ac6a2ea8fa",
    "deepnote_cell_type": "text-cell-h3",
    "formattedRanges": []
   },
   "source": [
    "### Fetching Data"
   ]
  },
  {
   "cell_type": "code",
   "execution_count": 3,
   "metadata": {
    "cell_id": "4d62ba8817d84a239a548ad10079b909",
    "deepnote_cell_type": "code",
    "execution_context_id": "ffabf25e-a440-4f37-a350-e37d866905b8",
    "execution_millis": 1,
    "execution_start": 1742571938806,
    "source_hash": "c88d9cb9"
   },
   "outputs": [],
   "source": [
    "from sklearn.datasets import fetch_openml"
   ]
  },
  {
   "cell_type": "code",
   "execution_count": 5,
   "metadata": {
    "cell_id": "2b6d01b332254bf3a92761ca9f84d10c",
    "deepnote_cell_type": "code",
    "execution_context_id": "ffabf25e-a440-4f37-a350-e37d866905b8",
    "execution_millis": 3532,
    "execution_start": 1742571940276,
    "source_hash": "c5299dae"
   },
   "outputs": [],
   "source": [
    "bike_sharing = fetch_openml(\n",
    "    name=\"Bike_Sharing_Demand\", version=2, data_home=None, return_X_y=False\n",
    ")\n",
    "df = bike_sharing.frame"
   ]
  },
  {
   "cell_type": "code",
   "execution_count": 7,
   "metadata": {
    "cell_id": "533048dae5af441a8206001bfeaa3537",
    "deepnote_cell_type": "code",
    "execution_context_id": "ffabf25e-a440-4f37-a350-e37d866905b8",
    "execution_millis": 15,
    "execution_start": 1742571945362,
    "source_hash": "c672d078"
   },
   "outputs": [
    {
     "data": {
      "application/vnd.deepnote.dataframe.v3+json": {
       "column_count": 13,
       "columns": [
        {
         "dtype": "category",
         "name": "season",
         "stats": {
          "categories": [
           {
            "count": 5,
            "name": "spring"
           }
          ],
          "nan_count": 0,
          "unique_count": 1
         }
        },
        {
         "dtype": "float64",
         "name": "year",
         "stats": {
          "histogram": [
           {
            "bin_end": -0.4,
            "bin_start": -0.5,
            "count": 0
           },
           {
            "bin_end": -0.3,
            "bin_start": -0.4,
            "count": 0
           },
           {
            "bin_end": -0.19999999999999996,
            "bin_start": -0.3,
            "count": 0
           },
           {
            "bin_end": -0.09999999999999998,
            "bin_start": -0.19999999999999996,
            "count": 0
           },
           {
            "bin_end": 0,
            "bin_start": -0.09999999999999998,
            "count": 0
           },
           {
            "bin_end": 0.10000000000000009,
            "bin_start": 0,
            "count": 5
           },
           {
            "bin_end": 0.20000000000000007,
            "bin_start": 0.10000000000000009,
            "count": 0
           },
           {
            "bin_end": 0.30000000000000004,
            "bin_start": 0.20000000000000007,
            "count": 0
           },
           {
            "bin_end": 0.4,
            "bin_start": 0.30000000000000004,
            "count": 0
           },
           {
            "bin_end": 0.5,
            "bin_start": 0.4,
            "count": 0
           }
          ],
          "max": "0.0",
          "min": "0.0",
          "nan_count": 0,
          "unique_count": 1
         }
        },
        {
         "dtype": "float64",
         "name": "month",
         "stats": {
          "histogram": [
           {
            "bin_end": 0.6,
            "bin_start": 0.5,
            "count": 0
           },
           {
            "bin_end": 0.7,
            "bin_start": 0.6,
            "count": 0
           },
           {
            "bin_end": 0.8,
            "bin_start": 0.7,
            "count": 0
           },
           {
            "bin_end": 0.9,
            "bin_start": 0.8,
            "count": 0
           },
           {
            "bin_end": 1,
            "bin_start": 0.9,
            "count": 0
           },
           {
            "bin_end": 1.1,
            "bin_start": 1,
            "count": 5
           },
           {
            "bin_end": 1.2000000000000002,
            "bin_start": 1.1,
            "count": 0
           },
           {
            "bin_end": 1.3,
            "bin_start": 1.2000000000000002,
            "count": 0
           },
           {
            "bin_end": 1.4,
            "bin_start": 1.3,
            "count": 0
           },
           {
            "bin_end": 1.5,
            "bin_start": 1.4,
            "count": 0
           }
          ],
          "max": "1.0",
          "min": "1.0",
          "nan_count": 0,
          "unique_count": 1
         }
        },
        {
         "dtype": "float64",
         "name": "hour",
         "stats": {
          "histogram": [
           {
            "bin_end": 0.4,
            "bin_start": 0,
            "count": 1
           },
           {
            "bin_end": 0.8,
            "bin_start": 0.4,
            "count": 0
           },
           {
            "bin_end": 1.2000000000000002,
            "bin_start": 0.8,
            "count": 1
           },
           {
            "bin_end": 1.6,
            "bin_start": 1.2000000000000002,
            "count": 0
           },
           {
            "bin_end": 2,
            "bin_start": 1.6,
            "count": 0
           },
           {
            "bin_end": 2.4000000000000004,
            "bin_start": 2,
            "count": 1
           },
           {
            "bin_end": 2.8000000000000003,
            "bin_start": 2.4000000000000004,
            "count": 0
           },
           {
            "bin_end": 3.2,
            "bin_start": 2.8000000000000003,
            "count": 1
           },
           {
            "bin_end": 3.6,
            "bin_start": 3.2,
            "count": 0
           },
           {
            "bin_end": 4,
            "bin_start": 3.6,
            "count": 1
           }
          ],
          "max": "4.0",
          "min": "0.0",
          "nan_count": 0,
          "unique_count": 5
         }
        },
        {
         "dtype": "category",
         "name": "holiday",
         "stats": {
          "categories": [
           {
            "count": 5,
            "name": "False"
           }
          ],
          "nan_count": 0,
          "unique_count": 1
         }
        },
        {
         "dtype": "float64",
         "name": "weekday",
         "stats": {
          "histogram": [
           {
            "bin_end": 5.6,
            "bin_start": 5.5,
            "count": 0
           },
           {
            "bin_end": 5.7,
            "bin_start": 5.6,
            "count": 0
           },
           {
            "bin_end": 5.8,
            "bin_start": 5.7,
            "count": 0
           },
           {
            "bin_end": 5.9,
            "bin_start": 5.8,
            "count": 0
           },
           {
            "bin_end": 6,
            "bin_start": 5.9,
            "count": 0
           },
           {
            "bin_end": 6.1,
            "bin_start": 6,
            "count": 5
           },
           {
            "bin_end": 6.2,
            "bin_start": 6.1,
            "count": 0
           },
           {
            "bin_end": 6.3,
            "bin_start": 6.2,
            "count": 0
           },
           {
            "bin_end": 6.4,
            "bin_start": 6.3,
            "count": 0
           },
           {
            "bin_end": 6.5,
            "bin_start": 6.4,
            "count": 0
           }
          ],
          "max": "6.0",
          "min": "6.0",
          "nan_count": 0,
          "unique_count": 1
         }
        },
        {
         "dtype": "category",
         "name": "workingday",
         "stats": {
          "categories": [
           {
            "count": 5,
            "name": "False"
           }
          ],
          "nan_count": 0,
          "unique_count": 1
         }
        },
        {
         "dtype": "category",
         "name": "weather",
         "stats": {
          "categories": [
           {
            "count": 5,
            "name": "clear"
           }
          ],
          "nan_count": 0,
          "unique_count": 1
         }
        },
        {
         "dtype": "float64",
         "name": "temp",
         "stats": {
          "histogram": [
           {
            "bin_end": 9.102,
            "bin_start": 9.02,
            "count": 2
           },
           {
            "bin_end": 9.184,
            "bin_start": 9.102,
            "count": 0
           },
           {
            "bin_end": 9.266,
            "bin_start": 9.184,
            "count": 0
           },
           {
            "bin_end": 9.347999999999999,
            "bin_start": 9.266,
            "count": 0
           },
           {
            "bin_end": 9.43,
            "bin_start": 9.347999999999999,
            "count": 0
           },
           {
            "bin_end": 9.512,
            "bin_start": 9.43,
            "count": 0
           },
           {
            "bin_end": 9.594,
            "bin_start": 9.512,
            "count": 0
           },
           {
            "bin_end": 9.676,
            "bin_start": 9.594,
            "count": 0
           },
           {
            "bin_end": 9.758,
            "bin_start": 9.676,
            "count": 0
           },
           {
            "bin_end": 9.84,
            "bin_start": 9.758,
            "count": 3
           }
          ],
          "max": "9.84",
          "min": "9.02",
          "nan_count": 0,
          "unique_count": 2
         }
        },
        {
         "dtype": "float64",
         "name": "feel_temp",
         "stats": {
          "histogram": [
           {
            "bin_end": 13.711,
            "bin_start": 13.635,
            "count": 2
           },
           {
            "bin_end": 13.786999999999999,
            "bin_start": 13.711,
            "count": 0
           },
           {
            "bin_end": 13.863,
            "bin_start": 13.786999999999999,
            "count": 0
           },
           {
            "bin_end": 13.939,
            "bin_start": 13.863,
            "count": 0
           },
           {
            "bin_end": 14.015,
            "bin_start": 13.939,
            "count": 0
           },
           {
            "bin_end": 14.091,
            "bin_start": 14.015,
            "count": 0
           },
           {
            "bin_end": 14.167,
            "bin_start": 14.091,
            "count": 0
           },
           {
            "bin_end": 14.243,
            "bin_start": 14.167,
            "count": 0
           },
           {
            "bin_end": 14.318999999999999,
            "bin_start": 14.243,
            "count": 0
           },
           {
            "bin_end": 14.395,
            "bin_start": 14.318999999999999,
            "count": 3
           }
          ],
          "max": "14.395",
          "min": "13.635",
          "nan_count": 0,
          "unique_count": 2
         }
        },
        {
         "dtype": "float64",
         "name": "humidity",
         "stats": {
          "histogram": [
           {
            "bin_end": 0.756,
            "bin_start": 0.75,
            "count": 2
           },
           {
            "bin_end": 0.762,
            "bin_start": 0.756,
            "count": 0
           },
           {
            "bin_end": 0.768,
            "bin_start": 0.762,
            "count": 0
           },
           {
            "bin_end": 0.774,
            "bin_start": 0.768,
            "count": 0
           },
           {
            "bin_end": 0.78,
            "bin_start": 0.774,
            "count": 0
           },
           {
            "bin_end": 0.786,
            "bin_start": 0.78,
            "count": 0
           },
           {
            "bin_end": 0.792,
            "bin_start": 0.786,
            "count": 0
           },
           {
            "bin_end": 0.798,
            "bin_start": 0.792,
            "count": 0
           },
           {
            "bin_end": 0.804,
            "bin_start": 0.798,
            "count": 2
           },
           {
            "bin_end": 0.81,
            "bin_start": 0.804,
            "count": 1
           }
          ],
          "max": "0.81",
          "min": "0.75",
          "nan_count": 0,
          "unique_count": 3
         }
        },
        {
         "dtype": "float64",
         "name": "windspeed",
         "stats": {
          "histogram": [
           {
            "bin_end": -0.4,
            "bin_start": -0.5,
            "count": 0
           },
           {
            "bin_end": -0.3,
            "bin_start": -0.4,
            "count": 0
           },
           {
            "bin_end": -0.19999999999999996,
            "bin_start": -0.3,
            "count": 0
           },
           {
            "bin_end": -0.09999999999999998,
            "bin_start": -0.19999999999999996,
            "count": 0
           },
           {
            "bin_end": 0,
            "bin_start": -0.09999999999999998,
            "count": 0
           },
           {
            "bin_end": 0.10000000000000009,
            "bin_start": 0,
            "count": 5
           },
           {
            "bin_end": 0.20000000000000007,
            "bin_start": 0.10000000000000009,
            "count": 0
           },
           {
            "bin_end": 0.30000000000000004,
            "bin_start": 0.20000000000000007,
            "count": 0
           },
           {
            "bin_end": 0.4,
            "bin_start": 0.30000000000000004,
            "count": 0
           },
           {
            "bin_end": 0.5,
            "bin_start": 0.4,
            "count": 0
           }
          ],
          "max": "0.0",
          "min": "0.0",
          "nan_count": 0,
          "unique_count": 1
         }
        },
        {
         "dtype": "float64",
         "name": "count",
         "stats": {
          "histogram": [
           {
            "bin_end": 4.9,
            "bin_start": 1,
            "count": 1
           },
           {
            "bin_end": 8.8,
            "bin_start": 4.9,
            "count": 0
           },
           {
            "bin_end": 12.7,
            "bin_start": 8.8,
            "count": 0
           },
           {
            "bin_end": 16.6,
            "bin_start": 12.7,
            "count": 2
           },
           {
            "bin_end": 20.5,
            "bin_start": 16.6,
            "count": 0
           },
           {
            "bin_end": 24.4,
            "bin_start": 20.5,
            "count": 0
           },
           {
            "bin_end": 28.3,
            "bin_start": 24.4,
            "count": 0
           },
           {
            "bin_end": 32.2,
            "bin_start": 28.3,
            "count": 1
           },
           {
            "bin_end": 36.1,
            "bin_start": 32.2,
            "count": 0
           },
           {
            "bin_end": 40,
            "bin_start": 36.1,
            "count": 1
           }
          ],
          "max": "40.0",
          "min": "1.0",
          "nan_count": 0,
          "unique_count": 5
         }
        },
        {
         "dtype": "int64",
         "name": "_deepnote_index_column"
        }
       ],
       "row_count": 5,
       "rows": [
        {
         "_deepnote_index_column": 0,
         "count": 16,
         "feel_temp": 14.395,
         "holiday": "False",
         "hour": 0,
         "humidity": 0.81,
         "month": 1,
         "season": "spring",
         "temp": 9.84,
         "weather": "clear",
         "weekday": 6,
         "windspeed": 0,
         "workingday": "False",
         "year": 0
        },
        {
         "_deepnote_index_column": 1,
         "count": 40,
         "feel_temp": 13.635,
         "holiday": "False",
         "hour": 1,
         "humidity": 0.8,
         "month": 1,
         "season": "spring",
         "temp": 9.02,
         "weather": "clear",
         "weekday": 6,
         "windspeed": 0,
         "workingday": "False",
         "year": 0
        },
        {
         "_deepnote_index_column": 2,
         "count": 32,
         "feel_temp": 13.635,
         "holiday": "False",
         "hour": 2,
         "humidity": 0.8,
         "month": 1,
         "season": "spring",
         "temp": 9.02,
         "weather": "clear",
         "weekday": 6,
         "windspeed": 0,
         "workingday": "False",
         "year": 0
        },
        {
         "_deepnote_index_column": 3,
         "count": 13,
         "feel_temp": 14.395,
         "holiday": "False",
         "hour": 3,
         "humidity": 0.75,
         "month": 1,
         "season": "spring",
         "temp": 9.84,
         "weather": "clear",
         "weekday": 6,
         "windspeed": 0,
         "workingday": "False",
         "year": 0
        },
        {
         "_deepnote_index_column": 4,
         "count": 1,
         "feel_temp": 14.395,
         "holiday": "False",
         "hour": 4,
         "humidity": 0.75,
         "month": 1,
         "season": "spring",
         "temp": 9.84,
         "weather": "clear",
         "weekday": 6,
         "windspeed": 0,
         "workingday": "False",
         "year": 0
        }
       ],
       "type": "dataframe"
      },
      "text/html": [
       "<div>\n",
       "<style scoped>\n",
       "    .dataframe tbody tr th:only-of-type {\n",
       "        vertical-align: middle;\n",
       "    }\n",
       "\n",
       "    .dataframe tbody tr th {\n",
       "        vertical-align: top;\n",
       "    }\n",
       "\n",
       "    .dataframe thead th {\n",
       "        text-align: right;\n",
       "    }\n",
       "</style>\n",
       "<table border=\"1\" class=\"dataframe\">\n",
       "  <thead>\n",
       "    <tr style=\"text-align: right;\">\n",
       "      <th></th>\n",
       "      <th>season</th>\n",
       "      <th>year</th>\n",
       "      <th>month</th>\n",
       "      <th>hour</th>\n",
       "      <th>holiday</th>\n",
       "      <th>weekday</th>\n",
       "      <th>workingday</th>\n",
       "      <th>weather</th>\n",
       "      <th>temp</th>\n",
       "      <th>feel_temp</th>\n",
       "      <th>humidity</th>\n",
       "      <th>windspeed</th>\n",
       "      <th>count</th>\n",
       "    </tr>\n",
       "  </thead>\n",
       "  <tbody>\n",
       "    <tr>\n",
       "      <th>0</th>\n",
       "      <td>spring</td>\n",
       "      <td>0.0</td>\n",
       "      <td>1.0</td>\n",
       "      <td>0.0</td>\n",
       "      <td>False</td>\n",
       "      <td>6.0</td>\n",
       "      <td>False</td>\n",
       "      <td>clear</td>\n",
       "      <td>9.84</td>\n",
       "      <td>14.395</td>\n",
       "      <td>0.81</td>\n",
       "      <td>0.0</td>\n",
       "      <td>16.0</td>\n",
       "    </tr>\n",
       "    <tr>\n",
       "      <th>1</th>\n",
       "      <td>spring</td>\n",
       "      <td>0.0</td>\n",
       "      <td>1.0</td>\n",
       "      <td>1.0</td>\n",
       "      <td>False</td>\n",
       "      <td>6.0</td>\n",
       "      <td>False</td>\n",
       "      <td>clear</td>\n",
       "      <td>9.02</td>\n",
       "      <td>13.635</td>\n",
       "      <td>0.80</td>\n",
       "      <td>0.0</td>\n",
       "      <td>40.0</td>\n",
       "    </tr>\n",
       "    <tr>\n",
       "      <th>2</th>\n",
       "      <td>spring</td>\n",
       "      <td>0.0</td>\n",
       "      <td>1.0</td>\n",
       "      <td>2.0</td>\n",
       "      <td>False</td>\n",
       "      <td>6.0</td>\n",
       "      <td>False</td>\n",
       "      <td>clear</td>\n",
       "      <td>9.02</td>\n",
       "      <td>13.635</td>\n",
       "      <td>0.80</td>\n",
       "      <td>0.0</td>\n",
       "      <td>32.0</td>\n",
       "    </tr>\n",
       "    <tr>\n",
       "      <th>3</th>\n",
       "      <td>spring</td>\n",
       "      <td>0.0</td>\n",
       "      <td>1.0</td>\n",
       "      <td>3.0</td>\n",
       "      <td>False</td>\n",
       "      <td>6.0</td>\n",
       "      <td>False</td>\n",
       "      <td>clear</td>\n",
       "      <td>9.84</td>\n",
       "      <td>14.395</td>\n",
       "      <td>0.75</td>\n",
       "      <td>0.0</td>\n",
       "      <td>13.0</td>\n",
       "    </tr>\n",
       "    <tr>\n",
       "      <th>4</th>\n",
       "      <td>spring</td>\n",
       "      <td>0.0</td>\n",
       "      <td>1.0</td>\n",
       "      <td>4.0</td>\n",
       "      <td>False</td>\n",
       "      <td>6.0</td>\n",
       "      <td>False</td>\n",
       "      <td>clear</td>\n",
       "      <td>9.84</td>\n",
       "      <td>14.395</td>\n",
       "      <td>0.75</td>\n",
       "      <td>0.0</td>\n",
       "      <td>1.0</td>\n",
       "    </tr>\n",
       "  </tbody>\n",
       "</table>\n",
       "</div>"
      ],
      "text/plain": [
       "   season  year  month  hour holiday  weekday workingday weather  temp  \\\n",
       "0  spring   0.0    1.0   0.0   False      6.0      False   clear  9.84   \n",
       "1  spring   0.0    1.0   1.0   False      6.0      False   clear  9.02   \n",
       "2  spring   0.0    1.0   2.0   False      6.0      False   clear  9.02   \n",
       "3  spring   0.0    1.0   3.0   False      6.0      False   clear  9.84   \n",
       "4  spring   0.0    1.0   4.0   False      6.0      False   clear  9.84   \n",
       "\n",
       "   feel_temp  humidity  windspeed  count  \n",
       "0     14.395      0.81        0.0   16.0  \n",
       "1     13.635      0.80        0.0   40.0  \n",
       "2     13.635      0.80        0.0   32.0  \n",
       "3     14.395      0.75        0.0   13.0  \n",
       "4     14.395      0.75        0.0    1.0  "
      ]
     },
     "execution_count": 7,
     "metadata": {},
     "output_type": "execute_result"
    }
   ],
   "source": [
    "# First 5 rows\n",
    "df.head()"
   ]
  },
  {
   "cell_type": "code",
   "execution_count": 9,
   "metadata": {
    "cell_id": "a56a7111d6124eac9c52d9c73004b5d1",
    "deepnote_cell_type": "code",
    "execution_context_id": "ffabf25e-a440-4f37-a350-e37d866905b8",
    "execution_millis": 0,
    "execution_start": 1742571946940,
    "source_hash": "14f60b8f"
   },
   "outputs": [
    {
     "data": {
      "text/plain": [
       "(17379, 13)"
      ]
     },
     "execution_count": 9,
     "metadata": {},
     "output_type": "execute_result"
    }
   ],
   "source": [
    "df.shape"
   ]
  },
  {
   "cell_type": "code",
   "execution_count": 11,
   "metadata": {
    "cell_id": "821c7646007549b0b9954c7e2159399c",
    "deepnote_cell_type": "code",
    "execution_context_id": "ffabf25e-a440-4f37-a350-e37d866905b8",
    "execution_millis": 6,
    "execution_start": 1742571948483,
    "source_hash": "7bb66955"
   },
   "outputs": [
    {
     "data": {
      "text/plain": [
       "weekday  hour\n",
       "0.0      0.0      93.990385\n",
       "         1.0      77.432692\n",
       "         2.0      61.627451\n",
       "         3.0      31.144231\n",
       "         4.0       9.362745\n",
       "                    ...    \n",
       "6.0      19.0    239.932692\n",
       "         20.0    180.865385\n",
       "         21.0    156.000000\n",
       "         22.0    139.663462\n",
       "         23.0    115.855769\n",
       "Name: count, Length: 168, dtype: float64"
      ]
     },
     "execution_count": 11,
     "metadata": {},
     "output_type": "execute_result"
    }
   ],
   "source": [
    "df.groupby([\"weekday\", \"hour\"])[\"count\"].mean()"
   ]
  },
  {
   "cell_type": "code",
   "execution_count": 13,
   "metadata": {
    "cell_id": "f8a07300eea24f48b2a2fa70563086e2",
    "deepnote_cell_type": "code",
    "execution_context_id": "ffabf25e-a440-4f37-a350-e37d866905b8",
    "execution_millis": 182,
    "execution_start": 1742571950338,
    "source_hash": "d64708ce"
   },
   "outputs": [
    {
     "name": "stderr",
     "output_type": "stream",
     "text": [
      "findfont: Generic family 'sans-serif' not found because none of the following families were found: Arial, Liberation Sans, Bitstream Vera Sans, sans-serif\n",
      "findfont: Generic family 'sans-serif' not found because none of the following families were found: Arial, Liberation Sans, Bitstream Vera Sans, sans-serif\n",
      "findfont: Generic family 'sans-serif' not found because none of the following families were found: Arial, Liberation Sans, Bitstream Vera Sans, sans-serif\n",
      "findfont: Generic family 'sans-serif' not found because none of the following families were found: Arial, Liberation Sans, Bitstream Vera Sans, sans-serif\n",
      "findfont: Generic family 'sans-serif' not found because none of the following families were found: Arial, Liberation Sans, Bitstream Vera Sans, sans-serif\n",
      "findfont: Generic family 'sans-serif' not found because none of the following families were found: Arial, Liberation Sans, Bitstream Vera Sans, sans-serif\n",
      "findfont: Generic family 'sans-serif' not found because none of the following families were found: Arial, Liberation Sans, Bitstream Vera Sans, sans-serif\n",
      "findfont: Generic family 'sans-serif' not found because none of the following families were found: Arial, Liberation Sans, Bitstream Vera Sans, sans-serif\n",
      "findfont: Generic family 'sans-serif' not found because none of the following families were found: Arial, Liberation Sans, Bitstream Vera Sans, sans-serif\n",
      "findfont: Generic family 'sans-serif' not found because none of the following families were found: Arial, Liberation Sans, Bitstream Vera Sans, sans-serif\n",
      "findfont: Generic family 'sans-serif' not found because none of the following families were found: Arial, Liberation Sans, Bitstream Vera Sans, sans-serif\n",
      "findfont: Generic family 'sans-serif' not found because none of the following families were found: Arial, Liberation Sans, Bitstream Vera Sans, sans-serif\n",
      "findfont: Generic family 'sans-serif' not found because none of the following families were found: Arial, Liberation Sans, Bitstream Vera Sans, sans-serif\n",
      "findfont: Generic family 'sans-serif' not found because none of the following families were found: Arial, Liberation Sans, Bitstream Vera Sans, sans-serif\n",
      "findfont: Generic family 'sans-serif' not found because none of the following families were found: Arial, Liberation Sans, Bitstream Vera Sans, sans-serif\n",
      "findfont: Generic family 'sans-serif' not found because none of the following families were found: Arial, Liberation Sans, Bitstream Vera Sans, sans-serif\n",
      "findfont: Generic family 'sans-serif' not found because none of the following families were found: Arial, Liberation Sans, Bitstream Vera Sans, sans-serif\n",
      "findfont: Generic family 'sans-serif' not found because none of the following families were found: Arial, Liberation Sans, Bitstream Vera Sans, sans-serif\n",
      "findfont: Generic family 'sans-serif' not found because none of the following families were found: Arial, Liberation Sans, Bitstream Vera Sans, sans-serif\n",
      "findfont: Generic family 'sans-serif' not found because none of the following families were found: Arial, Liberation Sans, Bitstream Vera Sans, sans-serif\n",
      "findfont: Generic family 'sans-serif' not found because none of the following families were found: Arial, Liberation Sans, Bitstream Vera Sans, sans-serif\n",
      "findfont: Generic family 'sans-serif' not found because none of the following families were found: Arial, Liberation Sans, Bitstream Vera Sans, sans-serif\n",
      "findfont: Generic family 'sans-serif' not found because none of the following families were found: Arial, Liberation Sans, Bitstream Vera Sans, sans-serif\n",
      "findfont: Generic family 'sans-serif' not found because none of the following families were found: Arial, Liberation Sans, Bitstream Vera Sans, sans-serif\n",
      "findfont: Generic family 'sans-serif' not found because none of the following families were found: Arial, Liberation Sans, Bitstream Vera Sans, sans-serif\n",
      "findfont: Generic family 'sans-serif' not found because none of the following families were found: Arial, Liberation Sans, Bitstream Vera Sans, sans-serif\n",
      "findfont: Generic family 'sans-serif' not found because none of the following families were found: Arial, Liberation Sans, Bitstream Vera Sans, sans-serif\n",
      "findfont: Generic family 'sans-serif' not found because none of the following families were found: Arial, Liberation Sans, Bitstream Vera Sans, sans-serif\n",
      "findfont: Generic family 'sans-serif' not found because none of the following families were found: Arial, Liberation Sans, Bitstream Vera Sans, sans-serif\n",
      "findfont: Generic family 'sans-serif' not found because none of the following families were found: Arial, Liberation Sans, Bitstream Vera Sans, sans-serif\n",
      "findfont: Generic family 'sans-serif' not found because none of the following families were found: Arial, Liberation Sans, Bitstream Vera Sans, sans-serif\n",
      "findfont: Generic family 'sans-serif' not found because none of the following families were found: Arial, Liberation Sans, Bitstream Vera Sans, sans-serif\n",
      "findfont: Generic family 'sans-serif' not found because none of the following families were found: Arial, Liberation Sans, Bitstream Vera Sans, sans-serif\n",
      "findfont: Generic family 'sans-serif' not found because none of the following families were found: Arial, Liberation Sans, Bitstream Vera Sans, sans-serif\n",
      "findfont: Generic family 'sans-serif' not found because none of the following families were found: Arial, Liberation Sans, Bitstream Vera Sans, sans-serif\n",
      "findfont: Generic family 'sans-serif' not found because none of the following families were found: Arial, Liberation Sans, Bitstream Vera Sans, sans-serif\n",
      "findfont: Generic family 'sans-serif' not found because none of the following families were found: Arial, Liberation Sans, Bitstream Vera Sans, sans-serif\n",
      "findfont: Generic family 'sans-serif' not found because none of the following families were found: Arial, Liberation Sans, Bitstream Vera Sans, sans-serif\n",
      "findfont: Generic family 'sans-serif' not found because none of the following families were found: Arial, Liberation Sans, Bitstream Vera Sans, sans-serif\n",
      "findfont: Generic family 'sans-serif' not found because none of the following families were found: Arial, Liberation Sans, Bitstream Vera Sans, sans-serif\n",
      "findfont: Generic family 'sans-serif' not found because none of the following families were found: Arial, Liberation Sans, Bitstream Vera Sans, sans-serif\n",
      "findfont: Generic family 'sans-serif' not found because none of the following families were found: Arial, Liberation Sans, Bitstream Vera Sans, sans-serif\n",
      "findfont: Generic family 'sans-serif' not found because none of the following families were found: Arial, Liberation Sans, Bitstream Vera Sans, sans-serif\n",
      "findfont: Generic family 'sans-serif' not found because none of the following families were found: Arial, Liberation Sans, Bitstream Vera Sans, sans-serif\n",
      "findfont: Generic family 'sans-serif' not found because none of the following families were found: Arial, Liberation Sans, Bitstream Vera Sans, sans-serif\n",
      "findfont: Generic family 'sans-serif' not found because none of the following families were found: Arial, Liberation Sans, Bitstream Vera Sans, sans-serif\n",
      "findfont: Generic family 'sans-serif' not found because none of the following families were found: Arial, Liberation Sans, Bitstream Vera Sans, sans-serif\n",
      "findfont: Generic family 'sans-serif' not found because none of the following families were found: Arial, Liberation Sans, Bitstream Vera Sans, sans-serif\n",
      "findfont: Generic family 'sans-serif' not found because none of the following families were found: Arial, Liberation Sans, Bitstream Vera Sans, sans-serif\n",
      "findfont: Generic family 'sans-serif' not found because none of the following families were found: Arial, Liberation Sans, Bitstream Vera Sans, sans-serif\n",
      "findfont: Generic family 'sans-serif' not found because none of the following families were found: Arial, Liberation Sans, Bitstream Vera Sans, sans-serif\n",
      "findfont: Generic family 'sans-serif' not found because none of the following families were found: Arial, Liberation Sans, Bitstream Vera Sans, sans-serif\n",
      "findfont: Generic family 'sans-serif' not found because none of the following families were found: Arial, Liberation Sans, Bitstream Vera Sans, sans-serif\n",
      "findfont: Generic family 'sans-serif' not found because none of the following families were found: Arial, Liberation Sans, Bitstream Vera Sans, sans-serif\n",
      "findfont: Generic family 'sans-serif' not found because none of the following families were found: Arial, Liberation Sans, Bitstream Vera Sans, sans-serif\n",
      "findfont: Generic family 'sans-serif' not found because none of the following families were found: Arial, Liberation Sans, Bitstream Vera Sans, sans-serif\n",
      "findfont: Generic family 'sans-serif' not found because none of the following families were found: Arial, Liberation Sans, Bitstream Vera Sans, sans-serif\n",
      "findfont: Generic family 'sans-serif' not found because none of the following families were found: Arial, Liberation Sans, Bitstream Vera Sans, sans-serif\n"
     ]
    },
    {
     "data": {
      "image/png": "[encoded data removed]",
      "text/plain": [
       "<Figure size 1200x200 with 1 Axes>"
      ]
     },
     "metadata": {
      "image/png": {
       "height": 240,
       "width": 1006
      }
     },
     "output_type": "display_data"
    }
   ],
   "source": [
    "fig, ax = plt.subplots(figsize=(12, 2))\n",
    "\n",
    "average_week_demand = df.groupby([\"weekday\", \"hour\"])[\"count\"].mean()\n",
    "\n",
    "average_week_demand.plot(ax=ax, color=\"#FF4500\") \n",
    "\n",
    "_ = ax.set(\n",
    "    title=\"Average hourly bike demand during the week\",\n",
    "    xticks=[i * 24 for i in range(7)],\n",
    "    xticklabels=[\"Sun\", \"Mon\", \"Tue\", \"Wed\", \"Thu\", \"Fri\", \"Sat\"],\n",
    "    xlabel=\"Time of the week\",\n",
    "    ylabel=\"Number of bike rentals\",\n",
    ")"
   ]
  },
  {
   "cell_type": "code",
   "execution_count": 15,
   "metadata": {
    "cell_id": "6125bab725b9407da5aa8dc6ab202ddb",
    "deepnote_cell_type": "code",
    "execution_context_id": "ffabf25e-a440-4f37-a350-e37d866905b8",
    "execution_millis": 3,
    "execution_start": 1742571952216,
    "source_hash": "52aea543"
   },
   "outputs": [],
   "source": [
    "df = df.sample(500)\n",
    "\n",
    "y = df[\"count\"] / df[\"count\"].max()\n",
    "X = df.drop(\"count\", axis=\"columns\")\n",
    "\n",
    "X_train, X_test = train_test_split(X, test_size=0.2, shuffle=False)\n",
    "y_train, y_test = train_test_split(y, test_size=0.2, shuffle=False)\n",
    "     "
   ]
  },
  {
   "cell_type": "code",
   "execution_count": 17,
   "metadata": {
    "cell_id": "cce72dae846e4c7aa5a8c8f5a0bf6a8e",
    "deepnote_cell_type": "code",
    "execution_context_id": "ffabf25e-a440-4f37-a350-e37d866905b8",
    "execution_millis": 1,
    "execution_start": 1742571953772,
    "source_hash": "57b8ea20"
   },
   "outputs": [
    {
     "data": {
      "text/plain": [
       "(500,)"
      ]
     },
     "execution_count": 17,
     "metadata": {},
     "output_type": "execute_result"
    }
   ],
   "source": [
    "y.shape"
   ]
  },
  {
   "cell_type": "markdown",
   "metadata": {
    "cell_id": "0452591c48404a96988ecaaeb253e1ac",
    "deepnote_cell_type": "text-cell-h2",
    "formattedRanges": []
   },
   "source": [
    "## Data Bootstrapping"
   ]
  },
  {
   "cell_type": "code",
   "execution_count": 19,
   "metadata": {
    "cell_id": "d742c6641a0642ca9916a67cca33aa6f",
    "deepnote_cell_type": "code",
    "execution_context_id": "ffabf25e-a440-4f37-a350-e37d866905b8",
    "execution_millis": 1,
    "execution_start": 1742571955876,
    "source_hash": "63d7d883"
   },
   "outputs": [],
   "source": [
    "class DataFrameBootstrapper:\n",
    "    def __init__(self, n_samples: int):\n",
    "        self.n_samples = n_samples\n",
    "\n",
    "    def __call__(\n",
    "        self, X: np.ndarray, y: np.ndarray\n",
    "    ) -> tuple[np.ndarray, list[tuple[np.ndarray, np.ndarray]]]:\n",
    "        indices = np.random.choice(y.shape[0], size=(self.n_samples, y.shape[0]))\n",
    "        return indices, [(X.iloc[idx], y.iloc[idx]) for idx in indices]"
   ]
  },
  {
   "cell_type": "code",
   "execution_count": 21,
   "metadata": {
    "cell_id": "ebf921b6d57042c082dfc9162fb4db5a",
    "deepnote_cell_type": "code",
    "execution_context_id": "ffabf25e-a440-4f37-a350-e37d866905b8",
    "execution_millis": 1,
    "execution_start": 1742571957167,
    "source_hash": "a37c2621"
   },
   "outputs": [],
   "source": [
    "n_bs_samples = 10\n",
    "\n",
    "bs_indices, bs_train_data = DataFrameBootstrapper(n_samples=n_bs_samples)(\n",
    "    X_train, y_train\n",
    ")"
   ]
  },
  {
   "cell_type": "code",
   "execution_count": 23,
   "metadata": {
    "cell_id": "ee2681808e0c4559ae00a249c6333e96",
    "deepnote_cell_type": "code",
    "execution_context_id": "ffabf25e-a440-4f37-a350-e37d866905b8",
    "execution_millis": 1,
    "execution_start": 1742571958327,
    "source_hash": "11e06beb"
   },
   "outputs": [
    {
     "data": {
      "text/plain": [
       "(10, 400)"
      ]
     },
     "execution_count": 23,
     "metadata": {},
     "output_type": "execute_result"
    }
   ],
   "source": [
    "# Returns 10 boostrap samples from the training set\n",
    "bs_indices.shape"
   ]
  },
  {
   "cell_type": "code",
   "execution_count": 27,
   "metadata": {
    "cell_id": "9999b099a70b45afbcfcb911878f212c",
    "deepnote_cell_type": "code",
    "execution_context_id": "ffabf25e-a440-4f37-a350-e37d866905b8",
    "execution_millis": 0,
    "execution_start": 1742571965462,
    "source_hash": "e609ceca"
   },
   "outputs": [
    {
     "data": {
      "text/plain": [
       "array([[213, 258,  14, ..., 213, 205, 190],\n",
       "       [ 22,  15, 113, ..., 100, 165, 397],\n",
       "       [ 10, 301, 362, ..., 345,  80, 286],\n",
       "       ...,\n",
       "       [278, 305, 226, ...,  80, 103, 280],\n",
       "       [103,  39, 369, ..., 114, 195, 301],\n",
       "       [206,  91,  87, ..., 228, 253, 168]])"
      ]
     },
     "execution_count": 27,
     "metadata": {},
     "output_type": "execute_result"
    }
   ],
   "source": [
    "bs_indices"
   ]
  },
  {
   "cell_type": "code",
   "execution_count": 29,
   "metadata": {
    "cell_id": "80f24340ab1a4328bd767e65f3d7f512",
    "deepnote_cell_type": "code",
    "execution_context_id": "ffabf25e-a440-4f37-a350-e37d866905b8",
    "execution_millis": 1,
    "execution_start": 1742571966642,
    "source_hash": "38f368cd"
   },
   "outputs": [
    {
     "data": {
      "text/plain": [
       "(400, 12)"
      ]
     },
     "execution_count": 29,
     "metadata": {},
     "output_type": "execute_result"
    }
   ],
   "source": [
    "X_train.shape"
   ]
  },
  {
   "cell_type": "code",
   "execution_count": 31,
   "metadata": {
    "cell_id": "baa0ef61eb38460c97766e5502a41318",
    "deepnote_cell_type": "code",
    "execution_context_id": "ffabf25e-a440-4f37-a350-e37d866905b8",
    "execution_millis": 1,
    "execution_start": 1742571967908,
    "source_hash": "3a54eb19"
   },
   "outputs": [
    {
     "data": {
      "text/plain": [
       "10"
      ]
     },
     "execution_count": 31,
     "metadata": {},
     "output_type": "execute_result"
    }
   ],
   "source": [
    "len(bs_train_data)"
   ]
  },
  {
   "cell_type": "code",
   "execution_count": 33,
   "metadata": {
    "cell_id": "4adb161b42e0499183a498857a486207",
    "deepnote_cell_type": "code",
    "execution_context_id": "ffabf25e-a440-4f37-a350-e37d866905b8",
    "execution_millis": 31,
    "execution_start": 1742571974628,
    "source_hash": "84c44a28"
   },
   "outputs": [
    {
     "data": {
      "application/vnd.deepnote.dataframe.v3+json": {
       "column_count": 12,
       "columns": [
        {
         "dtype": "category",
         "name": "season",
         "stats": {
          "categories": [
           {
            "count": 108,
            "name": "summer"
           },
           {
            "count": 106,
            "name": "spring"
           },
           {
            "count": 186,
            "name": "2 others"
           }
          ],
          "nan_count": 0,
          "unique_count": 4
         }
        },
        {
         "dtype": "float64",
         "name": "year",
         "stats": {
          "histogram": [
           {
            "bin_end": 0.1,
            "bin_start": 0,
            "count": 194
           },
           {
            "bin_end": 0.2,
            "bin_start": 0.1,
            "count": 0
           },
           {
            "bin_end": 0.30000000000000004,
            "bin_start": 0.2,
            "count": 0
           },
           {
            "bin_end": 0.4,
            "bin_start": 0.30000000000000004,
            "count": 0
           },
           {
            "bin_end": 0.5,
            "bin_start": 0.4,
            "count": 0
           },
           {
            "bin_end": 0.6000000000000001,
            "bin_start": 0.5,
            "count": 0
           },
           {
            "bin_end": 0.7000000000000001,
            "bin_start": 0.6000000000000001,
            "count": 0
           },
           {
            "bin_end": 0.8,
            "bin_start": 0.7000000000000001,
            "count": 0
           },
           {
            "bin_end": 0.9,
            "bin_start": 0.8,
            "count": 0
           },
           {
            "bin_end": 1,
            "bin_start": 0.9,
            "count": 206
           }
          ],
          "max": "1.0",
          "min": "0.0",
          "nan_count": 0,
          "unique_count": 2
         }
        },
        {
         "dtype": "float64",
         "name": "month",
         "stats": {
          "histogram": [
           {
            "bin_end": 2.1,
            "bin_start": 1,
            "count": 55
           },
           {
            "bin_end": 3.2,
            "bin_start": 2.1,
            "count": 43
           },
           {
            "bin_end": 4.300000000000001,
            "bin_start": 3.2,
            "count": 33
           },
           {
            "bin_end": 5.4,
            "bin_start": 4.300000000000001,
            "count": 36
           },
           {
            "bin_end": 6.5,
            "bin_start": 5.4,
            "count": 28
           },
           {
            "bin_end": 7.6000000000000005,
            "bin_start": 6.5,
            "count": 25
           },
           {
            "bin_end": 8.700000000000001,
            "bin_start": 7.6000000000000005,
            "count": 34
           },
           {
            "bin_end": 9.8,
            "bin_start": 8.700000000000001,
            "count": 38
           },
           {
            "bin_end": 10.9,
            "bin_start": 9.8,
            "count": 26
           },
           {
            "bin_end": 12,
            "bin_start": 10.9,
            "count": 82
           }
          ],
          "max": "12.0",
          "min": "1.0",
          "nan_count": 0,
          "unique_count": 12
         }
        },
        {
         "dtype": "float64",
         "name": "hour",
         "stats": {
          "histogram": [
           {
            "bin_end": 2.3,
            "bin_start": 0,
            "count": 44
           },
           {
            "bin_end": 4.6,
            "bin_start": 2.3,
            "count": 27
           },
           {
            "bin_end": 6.8999999999999995,
            "bin_start": 4.6,
            "count": 45
           },
           {
            "bin_end": 9.2,
            "bin_start": 6.8999999999999995,
            "count": 39
           },
           {
            "bin_end": 11.5,
            "bin_start": 9.2,
            "count": 36
           },
           {
            "bin_end": 13.799999999999999,
            "bin_start": 11.5,
            "count": 28
           },
           {
            "bin_end": 16.099999999999998,
            "bin_start": 13.799999999999999,
            "count": 40
           },
           {
            "bin_end": 18.4,
            "bin_start": 16.099999999999998,
            "count": 43
           },
           {
            "bin_end": 20.7,
            "bin_start": 18.4,
            "count": 32
           },
           {
            "bin_end": 23,
            "bin_start": 20.7,
            "count": 66
           }
          ],
          "max": "23.0",
          "min": "0.0",
          "nan_count": 0,
          "unique_count": 24
         }
        },
        {
         "dtype": "category",
         "name": "holiday",
         "stats": {
          "categories": [
           {
            "count": 390,
            "name": "False"
           },
           {
            "count": 10,
            "name": "True"
           }
          ],
          "nan_count": 0,
          "unique_count": 2
         }
        },
        {
         "dtype": "float64",
         "name": "weekday",
         "stats": {
          "histogram": [
           {
            "bin_end": 0.6,
            "bin_start": 0,
            "count": 71
           },
           {
            "bin_end": 1.2,
            "bin_start": 0.6,
            "count": 62
           },
           {
            "bin_end": 1.7999999999999998,
            "bin_start": 1.2,
            "count": 0
           },
           {
            "bin_end": 2.4,
            "bin_start": 1.7999999999999998,
            "count": 53
           },
           {
            "bin_end": 3,
            "bin_start": 2.4,
            "count": 0
           },
           {
            "bin_end": 3.5999999999999996,
            "bin_start": 3,
            "count": 55
           },
           {
            "bin_end": 4.2,
            "bin_start": 3.5999999999999996,
            "count": 40
           },
           {
            "bin_end": 4.8,
            "bin_start": 4.2,
            "count": 0
           },
           {
            "bin_end": 5.3999999999999995,
            "bin_start": 4.8,
            "count": 46
           },
           {
            "bin_end": 6,
            "bin_start": 5.3999999999999995,
            "count": 73
           }
          ],
          "max": "6.0",
          "min": "0.0",
          "nan_count": 0,
          "unique_count": 7
         }
        },
        {
         "dtype": "category",
         "name": "workingday",
         "stats": {
          "categories": [
           {
            "count": 246,
            "name": "True"
           },
           {
            "count": 154,
            "name": "False"
           }
          ],
          "nan_count": 0,
          "unique_count": 2
         }
        },
        {
         "dtype": "category",
         "name": "weather",
         "stats": {
          "categories": [
           {
            "count": 266,
            "name": "clear"
           },
           {
            "count": 101,
            "name": "misty"
           },
           {
            "count": 33,
            "name": "rain"
           }
          ],
          "nan_count": 0,
          "unique_count": 3
         }
        },
        {
         "dtype": "float64",
         "name": "temp",
         "stats": {
          "histogram": [
           {
            "bin_end": 4.51,
            "bin_start": 0.8200000000000001,
            "count": 8
           },
           {
            "bin_end": 8.2,
            "bin_start": 4.51,
            "count": 12
           },
           {
            "bin_end": 11.89,
            "bin_start": 8.2,
            "count": 69
           },
           {
            "bin_end": 15.58,
            "bin_start": 11.89,
            "count": 55
           },
           {
            "bin_end": 19.27,
            "bin_start": 15.58,
            "count": 56
           },
           {
            "bin_end": 22.96,
            "bin_start": 19.27,
            "count": 49
           },
           {
            "bin_end": 26.65,
            "bin_start": 22.96,
            "count": 48
           },
           {
            "bin_end": 30.34,
            "bin_start": 26.65,
            "count": 55
           },
           {
            "bin_end": 34.03,
            "bin_start": 30.34,
            "count": 39
           },
           {
            "bin_end": 37.72,
            "bin_start": 34.03,
            "count": 9
           }
          ],
          "max": "37.72",
          "min": "0.8200000000000001",
          "nan_count": 0,
          "unique_count": 43
         }
        },
        {
         "dtype": "float64",
         "name": "feel_temp",
         "stats": {
          "histogram": [
           {
            "bin_end": 5.833,
            "bin_start": 1.5150000000000001,
            "count": 8
           },
           {
            "bin_end": 10.151,
            "bin_start": 5.833,
            "count": 18
           },
           {
            "bin_end": 14.469,
            "bin_start": 10.151,
            "count": 76
           },
           {
            "bin_end": 18.787,
            "bin_start": 14.469,
            "count": 41
           },
           {
            "bin_end": 23.104999999999997,
            "bin_start": 18.787,
            "count": 57
           },
           {
            "bin_end": 27.423,
            "bin_start": 23.104999999999997,
            "count": 73
           },
           {
            "bin_end": 31.741,
            "bin_start": 27.423,
            "count": 39
           },
           {
            "bin_end": 36.059,
            "bin_start": 31.741,
            "count": 70
           },
           {
            "bin_end": 40.376999999999995,
            "bin_start": 36.059,
            "count": 14
           },
           {
            "bin_end": 44.695,
            "bin_start": 40.376999999999995,
            "count": 4
           }
          ],
          "max": "44.695",
          "min": "1.5150000000000001",
          "nan_count": 0,
          "unique_count": 50
         }
        },
        {
         "dtype": "float64",
         "name": "humidity",
         "stats": {
          "histogram": [
           {
            "bin_end": 0.271,
            "bin_start": 0.19,
            "count": 12
           },
           {
            "bin_end": 0.352,
            "bin_start": 0.271,
            "count": 30
           },
           {
            "bin_end": 0.433,
            "bin_start": 0.352,
            "count": 39
           },
           {
            "bin_end": 0.514,
            "bin_start": 0.433,
            "count": 48
           },
           {
            "bin_end": 0.595,
            "bin_start": 0.514,
            "count": 60
           },
           {
            "bin_end": 0.6759999999999999,
            "bin_start": 0.595,
            "count": 46
           },
           {
            "bin_end": 0.7570000000000001,
            "bin_start": 0.6759999999999999,
            "count": 55
           },
           {
            "bin_end": 0.8380000000000001,
            "bin_start": 0.7570000000000001,
            "count": 54
           },
           {
            "bin_end": 0.919,
            "bin_start": 0.8380000000000001,
            "count": 23
           },
           {
            "bin_end": 1,
            "bin_start": 0.919,
            "count": 33
           }
          ],
          "max": "1.0",
          "min": "0.19",
          "nan_count": 0,
          "unique_count": 67
         }
        },
        {
         "dtype": "float64",
         "name": "windspeed",
         "stats": {
          "histogram": [
           {
            "bin_end": 3.9000699999999995,
            "bin_start": 0,
            "count": 31
           },
           {
            "bin_end": 7.800139999999999,
            "bin_start": 3.9000699999999995,
            "count": 52
           },
           {
            "bin_end": 11.700209999999998,
            "bin_start": 7.800139999999999,
            "count": 80
           },
           {
            "bin_end": 15.600279999999998,
            "bin_start": 11.700209999999998,
            "count": 86
           },
           {
            "bin_end": 19.500349999999997,
            "bin_start": 15.600279999999998,
            "count": 65
           },
           {
            "bin_end": 23.400419999999997,
            "bin_start": 19.500349999999997,
            "count": 29
           },
           {
            "bin_end": 27.300489999999996,
            "bin_start": 23.400419999999997,
            "count": 29
           },
           {
            "bin_end": 31.200559999999996,
            "bin_start": 27.300489999999996,
            "count": 22
           },
           {
            "bin_end": 35.100629999999995,
            "bin_start": 31.200559999999996,
            "count": 4
           },
           {
            "bin_end": 39.000699999999995,
            "bin_start": 35.100629999999995,
            "count": 2
           }
          ],
          "max": "39.000699999999995",
          "min": "0.0",
          "nan_count": 0,
          "unique_count": 19
         }
        },
        {
         "dtype": "int64",
         "name": "_deepnote_index_column"
        }
       ],
       "row_count": 400,
       "rows": [
        {
         "_deepnote_index_column": 295,
         "feel_temp": 9.09,
         "holiday": "False",
         "hour": 18,
         "humidity": 0.4,
         "month": 1,
         "season": "spring",
         "temp": 8.200000000000001,
         "weather": "clear",
         "weekday": 4,
         "windspeed": 22.0028,
         "workingday": "True",
         "year": 0
        },
        {
         "_deepnote_index_column": 15006,
         "feel_temp": 32.574999999999996,
         "holiday": "False",
         "hour": 11,
         "humidity": 0.58,
         "month": 9,
         "season": "fall",
         "temp": 28.7,
         "weather": "clear",
         "weekday": 6,
         "windspeed": 19.0012,
         "workingday": "False",
         "year": 1
        },
        {
         "_deepnote_index_column": 2855,
         "feel_temp": 31.06,
         "holiday": "False",
         "hour": 21,
         "humidity": 0.61,
         "month": 5,
         "season": "summer",
         "temp": 26.240000000000002,
         "weather": "misty",
         "weekday": 2,
         "windspeed": 30.002599999999997,
         "workingday": "True",
         "year": 0
        },
        {
         "_deepnote_index_column": 17205,
         "feel_temp": 12.120000000000001,
         "holiday": "False",
         "hour": 17,
         "humidity": 0.93,
         "month": 12,
         "season": "spring",
         "temp": 9.84,
         "weather": "rain",
         "weekday": 1,
         "windspeed": 11.0014,
         "workingday": "True",
         "year": 1
        },
        {
         "_deepnote_index_column": 11178,
         "feel_temp": 31.06,
         "holiday": "False",
         "hour": 23,
         "humidity": 0.5,
         "month": 4,
         "season": "summer",
         "temp": 27.060000000000002,
         "weather": "clear",
         "weekday": 0,
         "windspeed": 26.0027,
         "workingday": "False",
         "year": 1
        },
        {
         "_deepnote_index_column": 14462,
         "feel_temp": 34.089999999999996,
         "holiday": "False",
         "hour": 19,
         "humidity": 0.48,
         "month": 8,
         "season": "fall",
         "temp": 31.16,
         "weather": "clear",
         "weekday": 4,
         "windspeed": 8.9981,
         "workingday": "True",
         "year": 1
        },
        {
         "_deepnote_index_column": 1376,
         "feel_temp": 25.759999999999998,
         "holiday": "False",
         "hour": 15,
         "humidity": 0.19,
         "month": 3,
         "season": "spring",
         "temp": 22.14,
         "weather": "clear",
         "weekday": 3,
         "windspeed": 27.999299999999998,
         "workingday": "True",
         "year": 0
        },
        {
         "_deepnote_index_column": 2068,
         "feel_temp": 12.879999999999999,
         "holiday": "False",
         "hour": 1,
         "humidity": 1,
         "month": 4,
         "season": "summer",
         "temp": 10.66,
         "weather": "rain",
         "weekday": 5,
         "windspeed": 11.0014,
         "workingday": "True",
         "year": 0
        },
        {
         "_deepnote_index_column": 11178,
         "feel_temp": 31.06,
         "holiday": "False",
         "hour": 23,
         "humidity": 0.5,
         "month": 4,
         "season": "summer",
         "temp": 27.060000000000002,
         "weather": "clear",
         "weekday": 0,
         "windspeed": 26.0027,
         "workingday": "False",
         "year": 1
        },
        {
         "_deepnote_index_column": 4290,
         "feel_temp": 37.12,
         "holiday": "False",
         "hour": 16,
         "humidity": 0.22,
         "month": 7,
         "season": "fall",
         "temp": 36.08,
         "weather": "clear",
         "weekday": 6,
         "windspeed": 15.001299999999999,
         "workingday": "False",
         "year": 0
        }
       ],
       "type": "dataframe"
      },
      "text/html": [
       "<div>\n",
       "<style scoped>\n",
       "    .dataframe tbody tr th:only-of-type {\n",
       "        vertical-align: middle;\n",
       "    }\n",
       "\n",
       "    .dataframe tbody tr th {\n",
       "        vertical-align: top;\n",
       "    }\n",
       "\n",
       "    .dataframe thead th {\n",
       "        text-align: right;\n",
       "    }\n",
       "</style>\n",
       "<table border=\"1\" class=\"dataframe\">\n",
       "  <thead>\n",
       "    <tr style=\"text-align: right;\">\n",
       "      <th></th>\n",
       "      <th>season</th>\n",
       "      <th>year</th>\n",
       "      <th>month</th>\n",
       "      <th>hour</th>\n",
       "      <th>holiday</th>\n",
       "      <th>weekday</th>\n",
       "      <th>workingday</th>\n",
       "      <th>weather</th>\n",
       "      <th>temp</th>\n",
       "      <th>feel_temp</th>\n",
       "      <th>humidity</th>\n",
       "      <th>windspeed</th>\n",
       "    </tr>\n",
       "  </thead>\n",
       "  <tbody>\n",
       "    <tr>\n",
       "      <th>295</th>\n",
       "      <td>spring</td>\n",
       "      <td>0.0</td>\n",
       "      <td>1.0</td>\n",
       "      <td>18.0</td>\n",
       "      <td>False</td>\n",
       "      <td>4.0</td>\n",
       "      <td>True</td>\n",
       "      <td>clear</td>\n",
       "      <td>8.20</td>\n",
       "      <td>9.090</td>\n",
       "      <td>0.40</td>\n",
       "      <td>22.0028</td>\n",
       "    </tr>\n",
       "    <tr>\n",
       "      <th>15006</th>\n",
       "      <td>fall</td>\n",
       "      <td>1.0</td>\n",
       "      <td>9.0</td>\n",
       "      <td>11.0</td>\n",
       "      <td>False</td>\n",
       "      <td>6.0</td>\n",
       "      <td>False</td>\n",
       "      <td>clear</td>\n",
       "      <td>28.70</td>\n",
       "      <td>32.575</td>\n",
       "      <td>0.58</td>\n",
       "      <td>19.0012</td>\n",
       "    </tr>\n",
       "    <tr>\n",
       "      <th>2855</th>\n",
       "      <td>summer</td>\n",
       "      <td>0.0</td>\n",
       "      <td>5.0</td>\n",
       "      <td>21.0</td>\n",
       "      <td>False</td>\n",
       "      <td>2.0</td>\n",
       "      <td>True</td>\n",
       "      <td>misty</td>\n",
       "      <td>26.24</td>\n",
       "      <td>31.060</td>\n",
       "      <td>0.61</td>\n",
       "      <td>30.0026</td>\n",
       "    </tr>\n",
       "    <tr>\n",
       "      <th>17205</th>\n",
       "      <td>spring</td>\n",
       "      <td>1.0</td>\n",
       "      <td>12.0</td>\n",
       "      <td>17.0</td>\n",
       "      <td>False</td>\n",
       "      <td>1.0</td>\n",
       "      <td>True</td>\n",
       "      <td>rain</td>\n",
       "      <td>9.84</td>\n",
       "      <td>12.120</td>\n",
       "      <td>0.93</td>\n",
       "      <td>11.0014</td>\n",
       "    </tr>\n",
       "    <tr>\n",
       "      <th>11178</th>\n",
       "      <td>summer</td>\n",
       "      <td>1.0</td>\n",
       "      <td>4.0</td>\n",
       "      <td>23.0</td>\n",
       "      <td>False</td>\n",
       "      <td>0.0</td>\n",
       "      <td>False</td>\n",
       "      <td>clear</td>\n",
       "      <td>27.06</td>\n",
       "      <td>31.060</td>\n",
       "      <td>0.50</td>\n",
       "      <td>26.0027</td>\n",
       "    </tr>\n",
       "    <tr>\n",
       "      <th>...</th>\n",
       "      <td>...</td>\n",
       "      <td>...</td>\n",
       "      <td>...</td>\n",
       "      <td>...</td>\n",
       "      <td>...</td>\n",
       "      <td>...</td>\n",
       "      <td>...</td>\n",
       "      <td>...</td>\n",
       "      <td>...</td>\n",
       "      <td>...</td>\n",
       "      <td>...</td>\n",
       "      <td>...</td>\n",
       "    </tr>\n",
       "    <tr>\n",
       "      <th>14325</th>\n",
       "      <td>fall</td>\n",
       "      <td>1.0</td>\n",
       "      <td>8.0</td>\n",
       "      <td>2.0</td>\n",
       "      <td>False</td>\n",
       "      <td>6.0</td>\n",
       "      <td>False</td>\n",
       "      <td>misty</td>\n",
       "      <td>27.06</td>\n",
       "      <td>31.060</td>\n",
       "      <td>0.74</td>\n",
       "      <td>6.0032</td>\n",
       "    </tr>\n",
       "    <tr>\n",
       "      <th>12639</th>\n",
       "      <td>summer</td>\n",
       "      <td>1.0</td>\n",
       "      <td>6.0</td>\n",
       "      <td>20.0</td>\n",
       "      <td>False</td>\n",
       "      <td>5.0</td>\n",
       "      <td>True</td>\n",
       "      <td>clear</td>\n",
       "      <td>27.88</td>\n",
       "      <td>31.820</td>\n",
       "      <td>0.44</td>\n",
       "      <td>12.9980</td>\n",
       "    </tr>\n",
       "    <tr>\n",
       "      <th>295</th>\n",
       "      <td>spring</td>\n",
       "      <td>0.0</td>\n",
       "      <td>1.0</td>\n",
       "      <td>18.0</td>\n",
       "      <td>False</td>\n",
       "      <td>4.0</td>\n",
       "      <td>True</td>\n",
       "      <td>clear</td>\n",
       "      <td>8.20</td>\n",
       "      <td>9.090</td>\n",
       "      <td>0.40</td>\n",
       "      <td>22.0028</td>\n",
       "    </tr>\n",
       "    <tr>\n",
       "      <th>17009</th>\n",
       "      <td>winter</td>\n",
       "      <td>1.0</td>\n",
       "      <td>12.0</td>\n",
       "      <td>12.0</td>\n",
       "      <td>False</td>\n",
       "      <td>0.0</td>\n",
       "      <td>False</td>\n",
       "      <td>misty</td>\n",
       "      <td>15.58</td>\n",
       "      <td>19.695</td>\n",
       "      <td>0.82</td>\n",
       "      <td>12.9980</td>\n",
       "    </tr>\n",
       "    <tr>\n",
       "      <th>16683</th>\n",
       "      <td>winter</td>\n",
       "      <td>1.0</td>\n",
       "      <td>12.0</td>\n",
       "      <td>22.0</td>\n",
       "      <td>False</td>\n",
       "      <td>0.0</td>\n",
       "      <td>False</td>\n",
       "      <td>misty</td>\n",
       "      <td>18.04</td>\n",
       "      <td>21.970</td>\n",
       "      <td>0.77</td>\n",
       "      <td>12.9980</td>\n",
       "    </tr>\n",
       "  </tbody>\n",
       "</table>\n",
       "<p>400 rows × 12 columns</p>\n",
       "</div>"
      ],
      "text/plain": [
       "       season  year  month  hour holiday  weekday workingday weather   temp  \\\n",
       "295    spring   0.0    1.0  18.0   False      4.0       True   clear   8.20   \n",
       "15006    fall   1.0    9.0  11.0   False      6.0      False   clear  28.70   \n",
       "2855   summer   0.0    5.0  21.0   False      2.0       True   misty  26.24   \n",
       "17205  spring   1.0   12.0  17.0   False      1.0       True    rain   9.84   \n",
       "11178  summer   1.0    4.0  23.0   False      0.0      False   clear  27.06   \n",
       "...       ...   ...    ...   ...     ...      ...        ...     ...    ...   \n",
       "14325    fall   1.0    8.0   2.0   False      6.0      False   misty  27.06   \n",
       "12639  summer   1.0    6.0  20.0   False      5.0       True   clear  27.88   \n",
       "295    spring   0.0    1.0  18.0   False      4.0       True   clear   8.20   \n",
       "17009  winter   1.0   12.0  12.0   False      0.0      False   misty  15.58   \n",
       "16683  winter   1.0   12.0  22.0   False      0.0      False   misty  18.04   \n",
       "\n",
       "       feel_temp  humidity  windspeed  \n",
       "295        9.090      0.40    22.0028  \n",
       "15006     32.575      0.58    19.0012  \n",
       "2855      31.060      0.61    30.0026  \n",
       "17205     12.120      0.93    11.0014  \n",
       "11178     31.060      0.50    26.0027  \n",
       "...          ...       ...        ...  \n",
       "14325     31.060      0.74     6.0032  \n",
       "12639     31.820      0.44    12.9980  \n",
       "295        9.090      0.40    22.0028  \n",
       "17009     19.695      0.82    12.9980  \n",
       "16683     21.970      0.77    12.9980  \n",
       "\n",
       "[400 rows x 12 columns]"
      ]
     },
     "execution_count": 33,
     "metadata": {},
     "output_type": "execute_result"
    }
   ],
   "source": [
    "# First Bootstrap Sample - X\n",
    "bs_train_data[0][0]"
   ]
  },
  {
   "cell_type": "code",
   "execution_count": 35,
   "metadata": {
    "cell_id": "330f403ba7fd48a5b5db866e1e5e5655",
    "deepnote_cell_type": "code",
    "execution_context_id": "ffabf25e-a440-4f37-a350-e37d866905b8",
    "execution_millis": 2,
    "execution_start": 1742571976309,
    "source_hash": "a07476a6"
   },
   "outputs": [
    {
     "data": {
      "text/plain": [
       "295      0.159116\n",
       "15006    0.691713\n",
       "2855     0.248619\n",
       "17205    0.028729\n",
       "11178    0.099448\n",
       "           ...   \n",
       "14325    0.087293\n",
       "12639    0.425414\n",
       "295      0.159116\n",
       "17009    0.460773\n",
       "16683    0.106077\n",
       "Name: count, Length: 400, dtype: float64"
      ]
     },
     "execution_count": 35,
     "metadata": {},
     "output_type": "execute_result"
    }
   ],
   "source": [
    "# First Bootstrap Sample - y\n",
    "bs_train_data[0][1]"
   ]
  },
  {
   "cell_type": "code",
   "execution_count": 37,
   "metadata": {
    "cell_id": "4f51ed92f8754a619e71b99282b88e65",
    "deepnote_cell_type": "code",
    "execution_context_id": "ffabf25e-a440-4f37-a350-e37d866905b8",
    "execution_millis": 1,
    "execution_start": 1742571977986,
    "source_hash": "dab344d"
   },
   "outputs": [
    {
     "name": "stdout",
     "output_type": "stream",
     "text": [
      "Index([  295, 15006,  2855, 11178, 14462,  1376, 11178,  4290, 15856,  1631,\n",
      "       ...\n",
      "       10612,  3329,  8631, 15856, 16037, 14325, 12639,   295, 17009, 16683],\n",
      "      dtype='int64', length=253)\n"
     ]
    }
   ],
   "source": [
    "# GetTing a boolean series where (True) indicates the index is duplicated\n",
    "duplicate_indices = bs_train_data[0][0].index.duplicated(keep=False)\n",
    "\n",
    "# Print the duplicated indices\n",
    "print(bs_train_data[0][0].index[duplicate_indices])"
   ]
  },
  {
   "cell_type": "code",
   "execution_count": 39,
   "metadata": {
    "cell_id": "270f223aee79430fa4929b1453a18c9b",
    "deepnote_cell_type": "code",
    "execution_context_id": "ffabf25e-a440-4f37-a350-e37d866905b8",
    "execution_millis": 18,
    "execution_start": 1742571979608,
    "source_hash": "4256f8a5"
   },
   "outputs": [
    {
     "data": {
      "application/vnd.deepnote.dataframe.v3+json": {
       "column_count": 12,
       "columns": [
        {
         "dtype": "category",
         "name": "season",
         "stats": {
          "categories": [
           {
            "count": 2,
            "name": "spring"
           }
          ],
          "nan_count": 0,
          "unique_count": 1
         }
        },
        {
         "dtype": "float64",
         "name": "year",
         "stats": {
          "histogram": [
           {
            "bin_end": -0.4,
            "bin_start": -0.5,
            "count": 0
           },
           {
            "bin_end": -0.3,
            "bin_start": -0.4,
            "count": 0
           },
           {
            "bin_end": -0.19999999999999996,
            "bin_start": -0.3,
            "count": 0
           },
           {
            "bin_end": -0.09999999999999998,
            "bin_start": -0.19999999999999996,
            "count": 0
           },
           {
            "bin_end": 0,
            "bin_start": -0.09999999999999998,
            "count": 0
           },
           {
            "bin_end": 0.10000000000000009,
            "bin_start": 0,
            "count": 2
           },
           {
            "bin_end": 0.20000000000000007,
            "bin_start": 0.10000000000000009,
            "count": 0
           },
           {
            "bin_end": 0.30000000000000004,
            "bin_start": 0.20000000000000007,
            "count": 0
           },
           {
            "bin_end": 0.4,
            "bin_start": 0.30000000000000004,
            "count": 0
           },
           {
            "bin_end": 0.5,
            "bin_start": 0.4,
            "count": 0
           }
          ],
          "max": "0.0",
          "min": "0.0",
          "nan_count": 0,
          "unique_count": 1
         }
        },
        {
         "dtype": "float64",
         "name": "month",
         "stats": {
          "histogram": [
           {
            "bin_end": 0.6,
            "bin_start": 0.5,
            "count": 0
           },
           {
            "bin_end": 0.7,
            "bin_start": 0.6,
            "count": 0
           },
           {
            "bin_end": 0.8,
            "bin_start": 0.7,
            "count": 0
           },
           {
            "bin_end": 0.9,
            "bin_start": 0.8,
            "count": 0
           },
           {
            "bin_end": 1,
            "bin_start": 0.9,
            "count": 0
           },
           {
            "bin_end": 1.1,
            "bin_start": 1,
            "count": 2
           },
           {
            "bin_end": 1.2000000000000002,
            "bin_start": 1.1,
            "count": 0
           },
           {
            "bin_end": 1.3,
            "bin_start": 1.2000000000000002,
            "count": 0
           },
           {
            "bin_end": 1.4,
            "bin_start": 1.3,
            "count": 0
           },
           {
            "bin_end": 1.5,
            "bin_start": 1.4,
            "count": 0
           }
          ],
          "max": "1.0",
          "min": "1.0",
          "nan_count": 0,
          "unique_count": 1
         }
        },
        {
         "dtype": "float64",
         "name": "hour",
         "stats": {
          "histogram": [
           {
            "bin_end": 17.6,
            "bin_start": 17.5,
            "count": 0
           },
           {
            "bin_end": 17.7,
            "bin_start": 17.6,
            "count": 0
           },
           {
            "bin_end": 17.8,
            "bin_start": 17.7,
            "count": 0
           },
           {
            "bin_end": 17.9,
            "bin_start": 17.8,
            "count": 0
           },
           {
            "bin_end": 18,
            "bin_start": 17.9,
            "count": 0
           },
           {
            "bin_end": 18.1,
            "bin_start": 18,
            "count": 2
           },
           {
            "bin_end": 18.2,
            "bin_start": 18.1,
            "count": 0
           },
           {
            "bin_end": 18.3,
            "bin_start": 18.2,
            "count": 0
           },
           {
            "bin_end": 18.4,
            "bin_start": 18.3,
            "count": 0
           },
           {
            "bin_end": 18.5,
            "bin_start": 18.4,
            "count": 0
           }
          ],
          "max": "18.0",
          "min": "18.0",
          "nan_count": 0,
          "unique_count": 1
         }
        },
        {
         "dtype": "category",
         "name": "holiday",
         "stats": {
          "categories": [
           {
            "count": 2,
            "name": "False"
           }
          ],
          "nan_count": 0,
          "unique_count": 1
         }
        },
        {
         "dtype": "float64",
         "name": "weekday",
         "stats": {
          "histogram": [
           {
            "bin_end": 3.6,
            "bin_start": 3.5,
            "count": 0
           },
           {
            "bin_end": 3.7,
            "bin_start": 3.6,
            "count": 0
           },
           {
            "bin_end": 3.8,
            "bin_start": 3.7,
            "count": 0
           },
           {
            "bin_end": 3.9,
            "bin_start": 3.8,
            "count": 0
           },
           {
            "bin_end": 4,
            "bin_start": 3.9,
            "count": 0
           },
           {
            "bin_end": 4.1,
            "bin_start": 4,
            "count": 2
           },
           {
            "bin_end": 4.2,
            "bin_start": 4.1,
            "count": 0
           },
           {
            "bin_end": 4.3,
            "bin_start": 4.2,
            "count": 0
           },
           {
            "bin_end": 4.4,
            "bin_start": 4.3,
            "count": 0
           },
           {
            "bin_end": 4.5,
            "bin_start": 4.4,
            "count": 0
           }
          ],
          "max": "4.0",
          "min": "4.0",
          "nan_count": 0,
          "unique_count": 1
         }
        },
        {
         "dtype": "category",
         "name": "workingday",
         "stats": {
          "categories": [
           {
            "count": 2,
            "name": "True"
           }
          ],
          "nan_count": 0,
          "unique_count": 1
         }
        },
        {
         "dtype": "category",
         "name": "weather",
         "stats": {
          "categories": [
           {
            "count": 2,
            "name": "clear"
           }
          ],
          "nan_count": 0,
          "unique_count": 1
         }
        },
        {
         "dtype": "float64",
         "name": "temp",
         "stats": {
          "histogram": [
           {
            "bin_end": 7.800000000000001,
            "bin_start": 7.700000000000001,
            "count": 0
           },
           {
            "bin_end": 7.900000000000001,
            "bin_start": 7.800000000000001,
            "count": 0
           },
           {
            "bin_end": 8.000000000000002,
            "bin_start": 7.900000000000001,
            "count": 0
           },
           {
            "bin_end": 8.100000000000001,
            "bin_start": 8.000000000000002,
            "count": 0
           },
           {
            "bin_end": 8.200000000000001,
            "bin_start": 8.100000000000001,
            "count": 0
           },
           {
            "bin_end": 8.3,
            "bin_start": 8.200000000000001,
            "count": 2
           },
           {
            "bin_end": 8.4,
            "bin_start": 8.3,
            "count": 0
           },
           {
            "bin_end": 8.500000000000002,
            "bin_start": 8.4,
            "count": 0
           },
           {
            "bin_end": 8.600000000000001,
            "bin_start": 8.500000000000002,
            "count": 0
           },
           {
            "bin_end": 8.700000000000001,
            "bin_start": 8.600000000000001,
            "count": 0
           }
          ],
          "max": "8.200000000000001",
          "min": "8.200000000000001",
          "nan_count": 0,
          "unique_count": 1
         }
        },
        {
         "dtype": "float64",
         "name": "feel_temp",
         "stats": {
          "histogram": [
           {
            "bin_end": 8.69,
            "bin_start": 8.59,
            "count": 0
           },
           {
            "bin_end": 8.79,
            "bin_start": 8.69,
            "count": 0
           },
           {
            "bin_end": 8.89,
            "bin_start": 8.79,
            "count": 0
           },
           {
            "bin_end": 8.99,
            "bin_start": 8.89,
            "count": 0
           },
           {
            "bin_end": 9.09,
            "bin_start": 8.99,
            "count": 0
           },
           {
            "bin_end": 9.19,
            "bin_start": 9.09,
            "count": 2
           },
           {
            "bin_end": 9.29,
            "bin_start": 9.19,
            "count": 0
           },
           {
            "bin_end": 9.39,
            "bin_start": 9.29,
            "count": 0
           },
           {
            "bin_end": 9.49,
            "bin_start": 9.39,
            "count": 0
           },
           {
            "bin_end": 9.59,
            "bin_start": 9.49,
            "count": 0
           }
          ],
          "max": "9.09",
          "min": "9.09",
          "nan_count": 0,
          "unique_count": 1
         }
        },
        {
         "dtype": "float64",
         "name": "humidity",
         "stats": {
          "histogram": [
           {
            "bin_end": 2.7755575615628914e-17,
            "bin_start": -0.09999999999999998,
            "count": 0
           },
           {
            "bin_end": 0.10000000000000003,
            "bin_start": 2.7755575615628914e-17,
            "count": 0
           },
           {
            "bin_end": 0.20000000000000007,
            "bin_start": 0.10000000000000003,
            "count": 0
           },
           {
            "bin_end": 0.30000000000000004,
            "bin_start": 0.20000000000000007,
            "count": 0
           },
           {
            "bin_end": 0.4,
            "bin_start": 0.30000000000000004,
            "count": 0
           },
           {
            "bin_end": 0.5000000000000001,
            "bin_start": 0.4,
            "count": 2
           },
           {
            "bin_end": 0.6000000000000001,
            "bin_start": 0.5000000000000001,
            "count": 0
           },
           {
            "bin_end": 0.7000000000000001,
            "bin_start": 0.6000000000000001,
            "count": 0
           },
           {
            "bin_end": 0.8,
            "bin_start": 0.7000000000000001,
            "count": 0
           },
           {
            "bin_end": 0.9,
            "bin_start": 0.8,
            "count": 0
           }
          ],
          "max": "0.4",
          "min": "0.4",
          "nan_count": 0,
          "unique_count": 1
         }
        },
        {
         "dtype": "float64",
         "name": "windspeed",
         "stats": {
          "histogram": [
           {
            "bin_end": 21.602800000000002,
            "bin_start": 21.5028,
            "count": 0
           },
           {
            "bin_end": 21.7028,
            "bin_start": 21.602800000000002,
            "count": 0
           },
           {
            "bin_end": 21.8028,
            "bin_start": 21.7028,
            "count": 0
           },
           {
            "bin_end": 21.9028,
            "bin_start": 21.8028,
            "count": 0
           },
           {
            "bin_end": 22.0028,
            "bin_start": 21.9028,
            "count": 0
           },
           {
            "bin_end": 22.102800000000002,
            "bin_start": 22.0028,
            "count": 2
           },
           {
            "bin_end": 22.2028,
            "bin_start": 22.102800000000002,
            "count": 0
           },
           {
            "bin_end": 22.3028,
            "bin_start": 22.2028,
            "count": 0
           },
           {
            "bin_end": 22.4028,
            "bin_start": 22.3028,
            "count": 0
           },
           {
            "bin_end": 22.5028,
            "bin_start": 22.4028,
            "count": 0
           }
          ],
          "max": "22.0028",
          "min": "22.0028",
          "nan_count": 0,
          "unique_count": 1
         }
        },
        {
         "dtype": "int64",
         "name": "_deepnote_index_column"
        }
       ],
       "row_count": 2,
       "rows": [
        {
         "_deepnote_index_column": 295,
         "feel_temp": 9.09,
         "holiday": "False",
         "hour": 18,
         "humidity": 0.4,
         "month": 1,
         "season": "spring",
         "temp": 8.200000000000001,
         "weather": "clear",
         "weekday": 4,
         "windspeed": 22.0028,
         "workingday": "True",
         "year": 0
        },
        {
         "_deepnote_index_column": 295,
         "feel_temp": 9.09,
         "holiday": "False",
         "hour": 18,
         "humidity": 0.4,
         "month": 1,
         "season": "spring",
         "temp": 8.200000000000001,
         "weather": "clear",
         "weekday": 4,
         "windspeed": 22.0028,
         "workingday": "True",
         "year": 0
        }
       ],
       "type": "dataframe"
      },
      "text/html": [
       "<div>\n",
       "<style scoped>\n",
       "    .dataframe tbody tr th:only-of-type {\n",
       "        vertical-align: middle;\n",
       "    }\n",
       "\n",
       "    .dataframe tbody tr th {\n",
       "        vertical-align: top;\n",
       "    }\n",
       "\n",
       "    .dataframe thead th {\n",
       "        text-align: right;\n",
       "    }\n",
       "</style>\n",
       "<table border=\"1\" class=\"dataframe\">\n",
       "  <thead>\n",
       "    <tr style=\"text-align: right;\">\n",
       "      <th></th>\n",
       "      <th>season</th>\n",
       "      <th>year</th>\n",
       "      <th>month</th>\n",
       "      <th>hour</th>\n",
       "      <th>holiday</th>\n",
       "      <th>weekday</th>\n",
       "      <th>workingday</th>\n",
       "      <th>weather</th>\n",
       "      <th>temp</th>\n",
       "      <th>feel_temp</th>\n",
       "      <th>humidity</th>\n",
       "      <th>windspeed</th>\n",
       "    </tr>\n",
       "  </thead>\n",
       "  <tbody>\n",
       "    <tr>\n",
       "      <th>295</th>\n",
       "      <td>spring</td>\n",
       "      <td>0.0</td>\n",
       "      <td>1.0</td>\n",
       "      <td>18.0</td>\n",
       "      <td>False</td>\n",
       "      <td>4.0</td>\n",
       "      <td>True</td>\n",
       "      <td>clear</td>\n",
       "      <td>8.2</td>\n",
       "      <td>9.09</td>\n",
       "      <td>0.4</td>\n",
       "      <td>22.0028</td>\n",
       "    </tr>\n",
       "    <tr>\n",
       "      <th>295</th>\n",
       "      <td>spring</td>\n",
       "      <td>0.0</td>\n",
       "      <td>1.0</td>\n",
       "      <td>18.0</td>\n",
       "      <td>False</td>\n",
       "      <td>4.0</td>\n",
       "      <td>True</td>\n",
       "      <td>clear</td>\n",
       "      <td>8.2</td>\n",
       "      <td>9.09</td>\n",
       "      <td>0.4</td>\n",
       "      <td>22.0028</td>\n",
       "    </tr>\n",
       "  </tbody>\n",
       "</table>\n",
       "</div>"
      ],
      "text/plain": [
       "     season  year  month  hour holiday  weekday workingday weather  temp  \\\n",
       "295  spring   0.0    1.0  18.0   False      4.0       True   clear   8.2   \n",
       "295  spring   0.0    1.0  18.0   False      4.0       True   clear   8.2   \n",
       "\n",
       "     feel_temp  humidity  windspeed  \n",
       "295       9.09       0.4    22.0028  \n",
       "295       9.09       0.4    22.0028  "
      ]
     },
     "execution_count": 39,
     "metadata": {},
     "output_type": "execute_result"
    }
   ],
   "source": [
    "bs_train_data[0][0].loc[bs_train_data[0][0].index[duplicate_indices][0]]"
   ]
  },
  {
   "cell_type": "markdown",
   "metadata": {
    "cell_id": "bb428b470f984e748a46e9f38714ef1c",
    "deepnote_cell_type": "text-cell-h2",
    "formattedRanges": []
   },
   "source": [
    "## Model Definition"
   ]
  },
  {
   "cell_type": "code",
   "execution_count": 69,
   "metadata": {
    "cell_id": "1462b284a4ef4320a5dfa2a31d8ea0f0",
    "deepnote_cell_type": "code",
    "execution_context_id": "ffabf25e-a440-4f37-a350-e37d866905b8",
    "execution_millis": 1,
    "execution_start": 1742572707891,
    "source_hash": "3ed33774"
   },
   "outputs": [
    {
     "ename": "AttributeError",
     "evalue": "'Pipeline' object has no attribute 'set_output'",
     "output_type": "error",
     "traceback": [
      "\u001b[0;31m---------------------------------------------------------------------------\u001b[0m",
      "\u001b[0;31mAttributeError\u001b[0m                            Traceback (most recent call last)",
      "Cell \u001b[0;32mIn[69], line 21\u001b[0m\n\u001b[1;32m      2\u001b[0m categories \u001b[38;5;241m=\u001b[39m [\n\u001b[1;32m      3\u001b[0m     [\u001b[38;5;124m\"\u001b[39m\u001b[38;5;124mclear\u001b[39m\u001b[38;5;124m\"\u001b[39m, \u001b[38;5;124m\"\u001b[39m\u001b[38;5;124mmisty\u001b[39m\u001b[38;5;124m\"\u001b[39m, \u001b[38;5;124m\"\u001b[39m\u001b[38;5;124mrain\u001b[39m\u001b[38;5;124m\"\u001b[39m, \u001b[38;5;124m\"\u001b[39m\u001b[38;5;124mheavy_rain\u001b[39m\u001b[38;5;124m\"\u001b[39m],\n\u001b[1;32m      4\u001b[0m     [\u001b[38;5;124m\"\u001b[39m\u001b[38;5;124mspring\u001b[39m\u001b[38;5;124m\"\u001b[39m, \u001b[38;5;124m\"\u001b[39m\u001b[38;5;124msummer\u001b[39m\u001b[38;5;124m\"\u001b[39m, \u001b[38;5;124m\"\u001b[39m\u001b[38;5;124mfall\u001b[39m\u001b[38;5;124m\"\u001b[39m, \u001b[38;5;124m\"\u001b[39m\u001b[38;5;124mwinter\u001b[39m\u001b[38;5;124m\"\u001b[39m],\n\u001b[1;32m      5\u001b[0m     [\u001b[38;5;124m\"\u001b[39m\u001b[38;5;124mFalse\u001b[39m\u001b[38;5;124m\"\u001b[39m, \u001b[38;5;124m\"\u001b[39m\u001b[38;5;124mTrue\u001b[39m\u001b[38;5;124m\"\u001b[39m],\n\u001b[1;32m      6\u001b[0m     [\u001b[38;5;124m\"\u001b[39m\u001b[38;5;124mFalse\u001b[39m\u001b[38;5;124m\"\u001b[39m, \u001b[38;5;124m\"\u001b[39m\u001b[38;5;124mTrue\u001b[39m\u001b[38;5;124m\"\u001b[39m],\n\u001b[1;32m      7\u001b[0m ]\n\u001b[1;32m      8\u001b[0m ordinal_encoder \u001b[38;5;241m=\u001b[39m OrdinalEncoder(categories\u001b[38;5;241m=\u001b[39mcategories)\n\u001b[1;32m     10\u001b[0m gbrt_pipeline \u001b[38;5;241m=\u001b[39m \u001b[43mmake_pipeline\u001b[49m\u001b[43m(\u001b[49m\n\u001b[1;32m     11\u001b[0m \u001b[43m    \u001b[49m\u001b[43mColumnTransformer\u001b[49m\u001b[43m(\u001b[49m\n\u001b[1;32m     12\u001b[0m \u001b[43m        \u001b[49m\u001b[43mtransformers\u001b[49m\u001b[38;5;241;43m=\u001b[39;49m\u001b[43m[\u001b[49m\n\u001b[1;32m     13\u001b[0m \u001b[43m            \u001b[49m\u001b[43m(\u001b[49m\u001b[38;5;124;43m\"\u001b[39;49m\u001b[38;5;124;43mcategorical\u001b[39;49m\u001b[38;5;124;43m\"\u001b[39;49m\u001b[43m,\u001b[49m\u001b[43m \u001b[49m\u001b[43mordinal_encoder\u001b[49m\u001b[43m,\u001b[49m\u001b[43m \u001b[49m\u001b[43mcategorical_columns\u001b[49m\u001b[43m)\u001b[49m\u001b[43m,\u001b[49m\n\u001b[1;32m     14\u001b[0m \u001b[43m        \u001b[49m\u001b[43m]\u001b[49m\u001b[43m,\u001b[49m\n\u001b[1;32m     15\u001b[0m \u001b[43m        \u001b[49m\u001b[43mremainder\u001b[49m\u001b[38;5;241;43m=\u001b[39;49m\u001b[38;5;124;43m\"\u001b[39;49m\u001b[38;5;124;43mpassthrough\u001b[39;49m\u001b[38;5;124;43m\"\u001b[39;49m\u001b[43m,\u001b[49m\n\u001b[1;32m     16\u001b[0m \u001b[43m        \u001b[49m\u001b[43mverbose_feature_names_out\u001b[49m\u001b[38;5;241;43m=\u001b[39;49m\u001b[38;5;28;43;01mFalse\u001b[39;49;00m\u001b[43m,\u001b[49m\n\u001b[1;32m     17\u001b[0m \u001b[43m    \u001b[49m\u001b[43m)\u001b[49m\u001b[43m,\u001b[49m\n\u001b[1;32m     18\u001b[0m \u001b[43m    \u001b[49m\u001b[43mHistGradientBoostingRegressor\u001b[49m\u001b[43m(\u001b[49m\n\u001b[1;32m     19\u001b[0m \u001b[43m        \u001b[49m\u001b[43mcategorical_features\u001b[49m\u001b[38;5;241;43m=\u001b[39;49m\u001b[43mcategorical_columns\u001b[49m\u001b[43m,\u001b[49m\n\u001b[1;32m     20\u001b[0m \u001b[43m    \u001b[49m\u001b[43m)\u001b[49m\u001b[43m,\u001b[49m\n\u001b[0;32m---> 21\u001b[0m \u001b[43m)\u001b[49m\u001b[38;5;241;43m.\u001b[39;49m\u001b[43mset_output\u001b[49m(transform\u001b[38;5;241m=\u001b[39m\u001b[38;5;124m\"\u001b[39m\u001b[38;5;124mpandas\u001b[39m\u001b[38;5;124m\"\u001b[39m)\n",
      "\u001b[0;31mAttributeError\u001b[0m: 'Pipeline' object has no attribute 'set_output'"
     ]
    }
   ],
   "source": [
    "categorical_columns = [\"weather\", \"season\", \"holiday\", \"workingday\"]\n",
    "categories = [\n",
    "    [\"clear\", \"misty\", \"rain\", \"heavy_rain\"],\n",
    "    [\"spring\", \"summer\", \"fall\", \"winter\"],\n",
    "    [\"False\", \"True\"],\n",
    "    [\"False\", \"True\"],\n",
    "]\n",
    "ordinal_encoder = OrdinalEncoder(categories=categories)\n",
    "\n",
    "gbrt_pipeline = make_pipeline(\n",
    "    ColumnTransformer(\n",
    "        transformers=[\n",
    "            (\"categorical\", ordinal_encoder, categorical_columns),\n",
    "        ],\n",
    "        remainder=\"passthrough\",\n",
    "        verbose_feature_names_out=False,\n",
    "    ),\n",
    "    HistGradientBoostingRegressor(\n",
    "        categorical_features=categorical_columns,\n",
    "    ),\n",
    ").set_output(transform=\"pandas\")"
   ]
  },
  {
   "cell_type": "markdown",
   "metadata": {
    "cell_id": "e44fb51db1b4445eb4d25a5192d17003",
    "deepnote_cell_type": "text-cell-h3",
    "formattedRanges": []
   },
   "source": [
    "### Model Training for each Bootstrap Sample"
   ]
  },
  {
   "cell_type": "code",
   "execution_count": 49,
   "metadata": {
    "cell_id": "3e81824774ee4aa1b3cceba6547ec7b1",
    "deepnote_cell_type": "code",
    "execution_context_id": "ffabf25e-a440-4f37-a350-e37d866905b8",
    "execution_millis": 1332,
    "execution_start": 1742572028191,
    "source_hash": "8f24d37f"
   },
   "outputs": [],
   "source": [
    "\n",
    "bs_train_preds = np.zeros((n_bs_samples, X_train.shape[0]))\n",
    "bs_test_preds = np.zeros((n_bs_samples, X_test.shape[0]))\n",
    "for i, batch in enumerate(bs_train_data):\n",
    "    gbrt_pipeline.fit(*batch)\n",
    "    bs_train_preds[i] = gbrt_pipeline.predict(X_train)\n",
    "    bs_test_preds[i] = gbrt_pipeline.predict(X_test)"
   ]
  },
  {
   "cell_type": "code",
   "execution_count": null,
   "metadata": {
    "cell_id": "b3d1f425c6394362897a955bcaae3b7d",
    "deepnote_cell_type": "code"
   },
   "outputs": [],
   "source": [
    "\n",
    "conformal_intervals = EnbPI().conformal_interval(\n",
    "    bootstrap_indices=bs_indices,\n",
    "    bootstrap_train_preds=bs_train_preds,\n",
    "    bootstrap_test_preds=bs_test_preds,\n",
    "    train_targets=y_train.values,\n",
    "    error=0.05,\n",
    ")\n",
    "    "
   ]
  },
  {
   "cell_type": "code",
   "execution_count": null,
   "metadata": {
    "cell_id": "e4a920c259784d7cbeb2c3775481cd3c",
    "deepnote_cell_type": "code"
   },
   "outputs": [],
   "source": [
    "print(\n",
    "    \"Percentage of intervals containing average bootstrap predictions: \"\n",
    "    f\"{prediction_interval_coverage_probability(*conformal_intervals.T, bs_test_preds.mean(0))}.\"\n",
    ")\n",
    "print(\n",
    "    \"Percentage of intervals containing true targets: \"\n",
    "    f\"{prediction_interval_coverage_probability(*conformal_intervals.T, y_test.values)}.\"\n",
    ")\n",
    "print(f\"Size of the conformal intervals: {np.diff(conformal_intervals)[0][0]}\")"
   ]
  },
  {
   "cell_type": "code",
   "execution_count": null,
   "metadata": {
    "cell_id": "7576a21561f748b5b9b757a9e6ca1b1b",
    "deepnote_cell_type": "code"
   },
   "outputs": [],
   "source": [
    "def weakly_avg(x):\n",
    "    s = x.shape[0] // 7\n",
    "    x = x[: s * 7]\n",
    "    return x.reshape(7, s, *x.shape[1:]).mean(0)\n",
    "\n",
    "\n",
    "weekly_avg_test = weakly_avg(y_test.values)\n",
    "n_weeks = weekly_avg_test.shape[0]\n",
    "\n",
    "plt.figure(figsize=(12, 2))\n",
    "plt.plot(weakly_avg(y_test.values), label=\"weekly averaged true test target\")\n",
    "plt.fill_between(\n",
    "    np.arange(n_weeks),\n",
    "    *weakly_avg(conformal_intervals).T,\n",
    "    alpha=0.5,\n",
    "    color=\"C0\",\n",
    "    label=\"weekly averaged conformal interval\",\n",
    ")\n",
    "plt.xlabel(\"test weeks\", fontsize=14)\n",
    "plt.legend(fontsize=11, loc=\"upper right\")"
   ]
  },
  {
   "cell_type": "markdown",
   "metadata": {
    "cell_id": "755ccbea592d40b99aa7fea25a7250bb",
    "deepnote_cell_type": "text-cell-h2",
    "formattedRanges": []
   },
   "source": [
    "## EnbPI with Online Feedback"
   ]
  },
  {
   "cell_type": "code",
   "execution_count": null,
   "metadata": {
    "cell_id": "c3c3ab0099804952bca6bac8309765a9",
    "deepnote_cell_type": "code"
   },
   "outputs": [],
   "source": [
    "batch_size = 1\n",
    "conformal_intervals2 = np.zeros((len(y_test), 2))\n",
    "for i in range(0, len(y_test), batch_size):\n",
    "    if i == 0:\n",
    "        conformal_intervals2[:batch_size], train_residuals = EnbPI().conformal_interval(\n",
    "            bootstrap_indices=bs_indices,\n",
    "            bootstrap_train_preds=bs_train_preds,\n",
    "            bootstrap_test_preds=bs_test_preds[:, :batch_size],\n",
    "            train_targets=y_train.values,\n",
    "            error=0.05,\n",
    "            return_residuals=True,\n",
    "        )\n",
    "    else:\n",
    "        (\n",
    "            conformal_intervals2[i : i + batch_size],\n",
    "            train_residuals,\n",
    "        ) = EnbPI().conformal_interval_from_residuals(\n",
    "            train_residuals=train_residuals,\n",
    "            bootstrap_new_train_preds=bs_test_preds[:, i - batch_size : i],\n",
    "            bootstrap_new_test_preds=bs_test_preds[:, i : i + batch_size],\n",
    "            new_train_targets=y_test.values[i - batch_size : i],\n",
    "            error=0.05,\n",
    "        )"
   ]
  },
  {
   "cell_type": "code",
   "execution_count": null,
   "metadata": {
    "cell_id": "67a04589c23245f0ac718a4b01b19dc0",
    "deepnote_cell_type": "code"
   },
   "outputs": [],
   "source": [
    "print(\n",
    "    \"Percentage of intervals containing average bootstrap predictions: \"\n",
    "    f\"{prediction_interval_coverage_probability(*conformal_intervals2.T, bs_test_preds.mean(0))}.\"\n",
    ")\n",
    "print(\n",
    "    \"Percentage of intervals containing true targets: \"\n",
    "    f\"{prediction_interval_coverage_probability(*conformal_intervals2.T, y_test.values)}.\"\n",
    ")"
   ]
  },
  {
   "cell_type": "code",
   "execution_count": null,
   "metadata": {
    "cell_id": "5e414940d6934af3ac139fd8424f8c5e",
    "deepnote_cell_type": "code"
   },
   "outputs": [],
   "source": [
    "plt.figure(figsize=(12, 2))\n",
    "plt.plot(weakly_avg(y_test.values), label=\"weekly averaged true test target\")\n",
    "plt.fill_between(\n",
    "    np.arange(n_weeks),\n",
    "    *weakly_avg(conformal_intervals2).T,\n",
    "    alpha=0.5,\n",
    "    color=\"C0\",\n",
    "    label=\"weekly averaged conformal interval\",\n",
    ")\n",
    "plt.xlabel(\"test weeks\", fontsize=14)\n",
    "plt.legend(fontsize=11, loc=\"upper right\")"
   ]
  },
  {
   "cell_type": "code",
   "execution_count": null,
   "metadata": {
    "cell_id": "b70e10cd53a646648da2521311362790",
    "deepnote_cell_type": "code"
   },
   "outputs": [],
   "source": [
    "# The following plot compares the size of the intervals without and with online feedback.\n",
    "plt.figure(figsize=(12, 2))\n",
    "plt.title(\"Conformal interval size comparison\")\n",
    "plt.plot(np.diff(conformal_intervals), label=\"without online feedback\")\n",
    "plt.plot(np.diff(conformal_intervals2), label=\"with online feedback\")\n",
    "plt.xlabel(\"test set\", fontsize=14)\n",
    "plt.ylabel(\"size\", fontsize=14)\n",
    "plt.legend(fontsize=12)"
   ]
  },
  {
   "cell_type": "markdown",
   "metadata": {
    "created_in_deepnote_cell": true,
    "deepnote_cell_type": "markdown"
   },
   "source": [
    "<a style='text-decoration:none;line-height:16px;display:flex;color:#5B5B62;padding:10px;justify-content:end;' href='https://deepnote.com?utm_source=created-in-deepnote-cell&projectId=9ecde8e4-b675-4eb7-a642-b0b24b4f17c3' target=\"_blank\">\n",
    "<img alt='Created in deepnote.com' style='display:inline;max-height:16px;margin:0px;margin-right:7.5px;' src='data:image/svg+xml;base64,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' > </img>\n",
    "Created in <span style='font-weight:600;margin-left:4px;'>Deepnote</span></a>"
   ]
  }
 ],
 "metadata": {
  "deepnote_notebook_id": "bca0104e03e3408b964cff111a55263b",
  "deepnote_persisted_session": {
   "createdAt": "2025-03-21T15:22:21.013Z"
  },
  "kernelspec": {
   "display_name": "Python 3 (ipykernel)",
   "language": "python",
   "name": "python3"
  },
  "language_info": {
   "codemirror_mode": {
    "name": "ipython",
    "version": 3
   },
   "file_extension": ".py",
   "mimetype": "text/x-python",
   "name": "python",
   "nbconvert_exporter": "python",
   "pygments_lexer": "ipython3",
   "version": "3.12.9"
  }
 },
 "nbformat": 4,
 "nbformat_minor": 4
}
